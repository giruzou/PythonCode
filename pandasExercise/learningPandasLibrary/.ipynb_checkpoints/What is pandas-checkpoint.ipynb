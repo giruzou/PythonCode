{
 "cells": [
  {
   "cell_type": "markdown",
   "metadata": {},
   "source": [
    "# Reference\n",
    "\n",
    "- Learning the Pandas Library\n",
    "- Python Tools for Data Munging, Data Analysis, and Visualization"
   ]
  },
  {
   "cell_type": "markdown",
   "metadata": {},
   "source": [
    "# Pandas Introduction"
   ]
  },
  {
   "cell_type": "markdown",
   "metadata": {},
   "source": [
    "- pandas is an open source, BSD-licensed library providing high-performance, easy-to-use data structures and data analysis tools for the Python programming language\n",
    "- pandas is an in memory nosql database, that has sql-like constructions, basic statistical and analytic support, as well as graphing capability. Because it is built on top of Cython, it has less memory overhead and runs quicker.\n",
    "- Many people are using pandas to replace Excel, perform ETL, process tabular data, load CSV or JSON files, and more."
   ]
  },
  {
   "cell_type": "markdown",
   "metadata": {},
   "source": [
    "# Data Structures\n",
    "- One of the keys to understanding pandas is to understand the data model. At the core of pandas are three data structures:\n",
    "\n",
    "| Data Structure |Dimensionality |SpreadSheet Analog |\n",
    "|:-----------|:------------|:------------|\n",
    "| Series | 1D | Column |\n",
    "| DataFrame | 2D | Single Sheet |\n",
    "| Panel | 3D | Multiple Sheets |\n",
    "\n",
    "- The most widely used data structures are the Series and the DataFrame that deal with array data and tabluar data respectively.\n",
    "- An analogy with the spreadsheet world illustrates the basic differences between these types."
   ]
  },
  {
   "cell_type": "markdown",
   "metadata": {},
   "source": [
    "# Series\n",
    "- A Series is used to model one dimensional data, similar to a list in Python.\n",
    "The Series object also has a few more bits of data, including an index and a name.\n",
    "A common ide through pandas is the notion of an  axis.\n",
    "Below is a table of counts of songs artists composed:\n",
    "\n",
    "|Artist | Data |\n",
    "|:-------|:-------|\n",
    "|0|145|\n",
    "|1|142|\n",
    "|2|38|\n",
    "|3|13|\n",
    "\n",
    "- To present this data in pure Python, you could use a data structure similar to the one that follows. It is a dictionary that has a list of the data points, stored under the 'data' key. In addition to an entry in the dictionary for the actual data, there is an explicit entry for the corresponding index values for the data , as well as an entry for the name of the data."
   ]
  },
  {
   "cell_type": "code",
   "execution_count": 3,
   "metadata": {},
   "outputs": [
    {
     "data": {
      "text/plain": [
       "{'data': [145, 142, 38, 13], 'index': [0, 1, 2, 3], 'name': 'songs'}"
      ]
     },
     "execution_count": 3,
     "metadata": {},
     "output_type": "execute_result"
    }
   ],
   "source": [
    "ser = {'index': [0,1,2,3],\n",
    "          'data':[145,142,38,13],\n",
    "           'name':'songs'}\n",
    "ser"
   ]
  },
  {
   "cell_type": "markdown",
   "metadata": {},
   "source": [
    "- There is a trick up panda's sleeves. Byallowing non-integer values, the data structure actually spports other index types such as strings, dates, as well as arbitary ordered indices or even duplicate index values.\n",
    "- Below is an example that has string values for the index:"
   ]
  },
  {
   "cell_type": "code",
   "execution_count": 4,
   "metadata": {
    "collapsed": true
   },
   "outputs": [],
   "source": [
    "songs={\n",
    "    'index':['Paul','John','George','Ringo'],\n",
    "    'data':[145,142,38,13],\n",
    "    'name':'counts'\n",
    "}"
   ]
  },
  {
   "cell_type": "code",
   "execution_count": 18,
   "metadata": {},
   "outputs": [],
   "source": [
    "def get(ser,idx):\n",
    "    value_idx=ser['index'].index(idx)\n",
    "    return ser['data'][value_idx]"
   ]
  },
  {
   "cell_type": "code",
   "execution_count": 26,
   "metadata": {},
   "outputs": [
    {
     "data": {
      "text/plain": [
       "(142, 142)"
      ]
     },
     "execution_count": 26,
     "metadata": {},
     "output_type": "execute_result"
    }
   ],
   "source": [
    "get(ser,1) , get(songs,'John')"
   ]
  },
  {
   "cell_type": "markdown",
   "metadata": {},
   "source": [
    "## The Pandas Series\n",
    "- With that back ground in mind, let's look at how to create a Series in pandas.\n",
    "- It is easy to create a Series object from a list:"
   ]
  },
  {
   "cell_type": "code",
   "execution_count": 28,
   "metadata": {},
   "outputs": [
    {
     "data": {
      "text/plain": [
       "0    145\n",
       "1    142\n",
       "2     38\n",
       "3     13\n",
       "Name: counts, dtype: int64"
      ]
     },
     "execution_count": 28,
     "metadata": {},
     "output_type": "execute_result"
    }
   ],
   "source": [
    "import pandas as pd\n",
    "songs = pd.Series([145,142,38,13],\n",
    "                        name='counts')\n",
    "songs"
   ]
  },
  {
   "cell_type": "markdown",
   "metadata": {},
   "source": [
    "- When the interpreter prints our series, pandas makes a best effort to format it for the current terminal size.\n",
    "- The left most column is the index column which condains entries for the index. \n",
    "- The generic name for an index is an axis, and the values of the index 0,1,2,3 ... are called axis labes.\n",
    "- The two dimensional structure in pandas - a DataFrame - has two axes, one for the rows and another for the columns."
   ]
  },
  {
   "cell_type": "code",
   "execution_count": 33,
   "metadata": {},
   "outputs": [
    {
     "data": {
      "text/plain": [
       "Paul      145\n",
       "John      142\n",
       "George     38\n",
       "Ringo      13\n",
       "Name: counts, dtype: int64"
      ]
     },
     "execution_count": 33,
     "metadata": {},
     "output_type": "execute_result"
    }
   ],
   "source": [
    "songs=pd.Series([145,142,38,13],\n",
    "    index=['Paul','John','George','Ringo'],\n",
    "    name='counts')\n",
    "songs"
   ]
  },
  {
   "cell_type": "markdown",
   "metadata": {},
   "source": [
    "- The actual data for a series does not have to be numeric or homogeneous. We can insert Python objects into a series.\n",
    "- In the below case, the dtype - datatype - of the Series is object (meaning a Python object). This can be good or bad.\n",
    "- The object data type is used for strings. But, it is also used for values that have heterogenous types. If you have numeric data, you would not want it tobe stored as a Python object, but rather as an int64 or float64, which allow you to do vectorized numeric operations."
   ]
  },
  {
   "cell_type": "code",
   "execution_count": 35,
   "metadata": {},
   "outputs": [
    {
     "data": {
      "text/plain": [
       "0                                 Richard\n",
       "1                                 Starkey\n",
       "2                                      13\n",
       "3    <__main__.Foo object at 0x10e3a1b00>\n",
       "Name: ringo, dtype: object"
      ]
     },
     "execution_count": 35,
     "metadata": {},
     "output_type": "execute_result"
    }
   ],
   "source": [
    "class Foo:\n",
    "    pass\n",
    "\n",
    "ringo=pd.Series(\n",
    "    ['Richard','Starkey',13,Foo()],\n",
    "    name='ringo')\n",
    "ringo"
   ]
  },
  {
   "cell_type": "code",
   "execution_count": null,
   "metadata": {
    "collapsed": true
   },
   "outputs": [],
   "source": []
  }
 ],
 "metadata": {
  "kernelspec": {
   "display_name": "Python 3",
   "language": "python",
   "name": "python3"
  },
  "language_info": {
   "codemirror_mode": {
    "name": "ipython",
    "version": 3
   },
   "file_extension": ".py",
   "mimetype": "text/x-python",
   "name": "python",
   "nbconvert_exporter": "python",
   "pygments_lexer": "ipython3",
   "version": "3.5.3"
  }
 },
 "nbformat": 4,
 "nbformat_minor": 2
}
