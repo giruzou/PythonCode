{
 "cells": [
  {
   "cell_type": "code",
   "execution_count": 1,
   "metadata": {
    "collapsed": true
   },
   "outputs": [],
   "source": [
    "import numpy as np\n",
    "import sympy as sy\n",
    "sy.init_printing()"
   ]
  },
  {
   "cell_type": "code",
   "execution_count": 2,
   "metadata": {
    "collapsed": true
   },
   "outputs": [],
   "source": [
    "row,col=2,2\n",
    "kwds=['x{}(0:{})'.format(i,col) for i in range(row) ]\n",
    "symbols_row_col=np.array([sy.symbols(kwd) for kwd in kwds]).reshape(row,col)\n",
    "symbols_row_col=sy.Matrix(symbols_row_col)\n"
   ]
  },
  {
   "cell_type": "code",
   "execution_count": null,
   "metadata": {},
   "outputs": [],
   "source": []
  },
  {
   "cell_type": "code",
   "execution_count": 3,
   "metadata": {},
   "outputs": [
    {
     "data": {
      "image/png": "[encoded data removed]",
      "text/latex": [
       "$$x$$"
      ],
      "text/plain": [
       "x"
      ]
     },
     "execution_count": 3,
     "metadata": {},
     "output_type": "execute_result"
    }
   ],
   "source": [
    "x=sy.symbols('x')\n",
    "x"
   ]
  },
  {
   "cell_type": "code",
   "execution_count": null,
   "metadata": {},
   "outputs": [],
   "source": []
  },
  {
   "cell_type": "code",
   "execution_count": 4,
   "metadata": {},
   "outputs": [
    {
     "data": {
      "image/png": "[encoded data removed]",
      "text/latex": [
       "$$\\frac{\\left(- t_{0} + x\\right) \\left(- t_{1} + x\\right) \\left(- t_{3} + x\\right)}{\\left(- t_{0} + t_{2}\\right) \\left(- t_{1} + t_{2}\\right) \\left(t_{2} - t_{3}\\right)}$$"
      ],
      "text/plain": [
       " (-t₀ + x)⋅(-t₁ + x)⋅(-t₃ + x) \n",
       "───────────────────────────────\n",
       "(-t₀ + t₂)⋅(-t₁ + t₂)⋅(t₂ - t₃)"
      ]
     },
     "execution_count": 4,
     "metadata": {},
     "output_type": "execute_result"
    }
   ],
   "source": [
    "size=4\n",
    "kwd_ts='t(0:{})'.format(size)\n",
    "t=sy.symbols(kwd_ts)\n",
    "\n",
    "list_size=[i for i in range(size)]\n",
    "i=2\n",
    "lix=sy.prod([(x-t[k])/(t[i]-t[k]) for k in filter(lambda x:x is not i, list_size)])\n",
    "lix"
   ]
  },
  {
   "cell_type": "code",
   "execution_count": 5,
   "metadata": {},
   "outputs": [
    {
     "data": {
      "image/png": "[encoded data removed]",
      "text/latex": [
       "$$10$$"
      ],
      "text/plain": [
       "10"
      ]
     },
     "execution_count": 5,
     "metadata": {},
     "output_type": "execute_result"
    }
   ],
   "source": [
    "xs=[0.0,0.2,0.4,0.6,0.8,1.2,1.4,1.6,1.8,2.0]\n",
    "ys=[2.0,2.1,1.6,2.6,1.5,2.7,0.67,3.5,0.94,2.0]\n",
    "len(xs)"
   ]
  },
  {
   "cell_type": "code",
   "execution_count": 6,
   "metadata": {},
   "outputs": [
    {
     "data": {
      "image/png": "[encoded data removed]",
      "text/latex": [
       "$$\\frac{2.0 \\left(- t_{1} + x\\right) \\left(- t_{2} + x\\right) \\left(- t_{3} + x\\right) \\left(- t_{4} + x\\right) \\left(- t_{5} + x\\right) \\left(- t_{6} + x\\right) \\left(- t_{7} + x\\right) \\left(- t_{8} + x\\right) \\left(- t_{9} + x\\right)}{\\left(t_{0} - t_{1}\\right) \\left(t_{0} - t_{2}\\right) \\left(t_{0} - t_{3}\\right) \\left(t_{0} - t_{4}\\right) \\left(t_{0} - t_{5}\\right) \\left(t_{0} - t_{6}\\right) \\left(t_{0} - t_{7}\\right) \\left(t_{0} - t_{8}\\right) \\left(t_{0} - t_{9}\\right)} + \\frac{2.0 \\left(- t_{0} + x\\right) \\left(- t_{1} + x\\right) \\left(- t_{2} + x\\right) \\left(- t_{3} + x\\right) \\left(- t_{4} + x\\right) \\left(- t_{5} + x\\right) \\left(- t_{6} + x\\right) \\left(- t_{7} + x\\right) \\left(- t_{8} + x\\right)}{\\left(- t_{0} + t_{9}\\right) \\left(- t_{1} + t_{9}\\right) \\left(- t_{2} + t_{9}\\right) \\left(- t_{3} + t_{9}\\right) \\left(- t_{4} + t_{9}\\right) \\left(- t_{5} + t_{9}\\right) \\left(- t_{6} + t_{9}\\right) \\left(- t_{7} + t_{9}\\right) \\left(- t_{8} + t_{9}\\right)} + \\frac{0.94 \\left(- t_{0} + x\\right) \\left(- t_{1} + x\\right) \\left(- t_{2} + x\\right) \\left(- t_{3} + x\\right) \\left(- t_{4} + x\\right) \\left(- t_{5} + x\\right) \\left(- t_{6} + x\\right) \\left(- t_{7} + x\\right) \\left(- t_{9} + x\\right)}{\\left(- t_{0} + t_{8}\\right) \\left(- t_{1} + t_{8}\\right) \\left(- t_{2} + t_{8}\\right) \\left(- t_{3} + t_{8}\\right) \\left(- t_{4} + t_{8}\\right) \\left(- t_{5} + t_{8}\\right) \\left(- t_{6} + t_{8}\\right) \\left(- t_{7} + t_{8}\\right) \\left(t_{8} - t_{9}\\right)} + \\frac{3.5 \\left(- t_{0} + x\\right) \\left(- t_{1} + x\\right) \\left(- t_{2} + x\\right) \\left(- t_{3} + x\\right) \\left(- t_{4} + x\\right) \\left(- t_{5} + x\\right) \\left(- t_{6} + x\\right) \\left(- t_{8} + x\\right) \\left(- t_{9} + x\\right)}{\\left(- t_{0} + t_{7}\\right) \\left(- t_{1} + t_{7}\\right) \\left(- t_{2} + t_{7}\\right) \\left(- t_{3} + t_{7}\\right) \\left(- t_{4} + t_{7}\\right) \\left(- t_{5} + t_{7}\\right) \\left(- t_{6} + t_{7}\\right) \\left(t_{7} - t_{8}\\right) \\left(t_{7} - t_{9}\\right)} + \\frac{0.67 \\left(- t_{0} + x\\right) \\left(- t_{1} + x\\right) \\left(- t_{2} + x\\right) \\left(- t_{3} + x\\right) \\left(- t_{4} + x\\right) \\left(- t_{5} + x\\right) \\left(- t_{7} + x\\right) \\left(- t_{8} + x\\right) \\left(- t_{9} + x\\right)}{\\left(- t_{0} + t_{6}\\right) \\left(- t_{1} + t_{6}\\right) \\left(- t_{2} + t_{6}\\right) \\left(- t_{3} + t_{6}\\right) \\left(- t_{4} + t_{6}\\right) \\left(- t_{5} + t_{6}\\right) \\left(t_{6} - t_{7}\\right) \\left(t_{6} - t_{8}\\right) \\left(t_{6} - t_{9}\\right)} + \\frac{2.7 \\left(- t_{0} + x\\right) \\left(- t_{1} + x\\right) \\left(- t_{2} + x\\right) \\left(- t_{3} + x\\right) \\left(- t_{4} + x\\right) \\left(- t_{6} + x\\right) \\left(- t_{7} + x\\right) \\left(- t_{8} + x\\right) \\left(- t_{9} + x\\right)}{\\left(- t_{0} + t_{5}\\right) \\left(- t_{1} + t_{5}\\right) \\left(- t_{2} + t_{5}\\right) \\left(- t_{3} + t_{5}\\right) \\left(- t_{4} + t_{5}\\right) \\left(t_{5} - t_{6}\\right) \\left(t_{5} - t_{7}\\right) \\left(t_{5} - t_{8}\\right) \\left(t_{5} - t_{9}\\right)} + \\frac{1.5 \\left(- t_{0} + x\\right) \\left(- t_{1} + x\\right) \\left(- t_{2} + x\\right) \\left(- t_{3} + x\\right) \\left(- t_{5} + x\\right) \\left(- t_{6} + x\\right) \\left(- t_{7} + x\\right) \\left(- t_{8} + x\\right) \\left(- t_{9} + x\\right)}{\\left(- t_{0} + t_{4}\\right) \\left(- t_{1} + t_{4}\\right) \\left(- t_{2} + t_{4}\\right) \\left(- t_{3} + t_{4}\\right) \\left(t_{4} - t_{5}\\right) \\left(t_{4} - t_{6}\\right) \\left(t_{4} - t_{7}\\right) \\left(t_{4} - t_{8}\\right) \\left(t_{4} - t_{9}\\right)} + \\frac{2.6 \\left(- t_{0} + x\\right) \\left(- t_{1} + x\\right) \\left(- t_{2} + x\\right) \\left(- t_{4} + x\\right) \\left(- t_{5} + x\\right) \\left(- t_{6} + x\\right) \\left(- t_{7} + x\\right) \\left(- t_{8} + x\\right) \\left(- t_{9} + x\\right)}{\\left(- t_{0} + t_{3}\\right) \\left(- t_{1} + t_{3}\\right) \\left(- t_{2} + t_{3}\\right) \\left(t_{3} - t_{4}\\right) \\left(t_{3} - t_{5}\\right) \\left(t_{3} - t_{6}\\right) \\left(t_{3} - t_{7}\\right) \\left(t_{3} - t_{8}\\right) \\left(t_{3} - t_{9}\\right)} + \\frac{1.6 \\left(- t_{0} + x\\right) \\left(- t_{1} + x\\right) \\left(- t_{3} + x\\right) \\left(- t_{4} + x\\right) \\left(- t_{5} + x\\right) \\left(- t_{6} + x\\right) \\left(- t_{7} + x\\right) \\left(- t_{8} + x\\right) \\left(- t_{9} + x\\right)}{\\left(- t_{0} + t_{2}\\right) \\left(- t_{1} + t_{2}\\right) \\left(t_{2} - t_{3}\\right) \\left(t_{2} - t_{4}\\right) \\left(t_{2} - t_{5}\\right) \\left(t_{2} - t_{6}\\right) \\left(t_{2} - t_{7}\\right) \\left(t_{2} - t_{8}\\right) \\left(t_{2} - t_{9}\\right)} + \\frac{2.1 \\left(- t_{0} + x\\right) \\left(- t_{2} + x\\right) \\left(- t_{3} + x\\right) \\left(- t_{4} + x\\right) \\left(- t_{5} + x\\right) \\left(- t_{6} + x\\right) \\left(- t_{7} + x\\right) \\left(- t_{8} + x\\right) \\left(- t_{9} + x\\right)}{\\left(- t_{0} + t_{1}\\right) \\left(t_{1} - t_{2}\\right) \\left(t_{1} - t_{3}\\right) \\left(t_{1} - t_{4}\\right) \\left(t_{1} - t_{5}\\right) \\left(t_{1} - t_{6}\\right) \\left(t_{1} - t_{7}\\right) \\left(t_{1} - t_{8}\\right) \\left(t_{1} - t_{9}\\right)}$$"
      ],
      "text/plain": [
       "2.0⋅(-t₁ + x)⋅(-t₂ + x)⋅(-t₃ + x)⋅(-t₄ + x)⋅(-t₅ + x)⋅(-t₆ + x)⋅(-t₇ + x)⋅(-t₈\n",
       "──────────────────────────────────────────────────────────────────────────────\n",
       "  (t₀ - t₁)⋅(t₀ - t₂)⋅(t₀ - t₃)⋅(t₀ - t₄)⋅(t₀ - t₅)⋅(t₀ - t₆)⋅(t₀ - t₇)⋅(t₀ - \n",
       "\n",
       " + x)⋅(-t₉ + x)     2.0⋅(-t₀ + x)⋅(-t₁ + x)⋅(-t₂ + x)⋅(-t₃ + x)⋅(-t₄ + x)⋅(-t₅\n",
       "─────────────── + ────────────────────────────────────────────────────────────\n",
       "t₈)⋅(t₀ - t₉)     (-t₀ + t₉)⋅(-t₁ + t₉)⋅(-t₂ + t₉)⋅(-t₃ + t₉)⋅(-t₄ + t₉)⋅(-t₅ \n",
       "\n",
       " + x)⋅(-t₆ + x)⋅(-t₇ + x)⋅(-t₈ + x)        0.94⋅(-t₀ + x)⋅(-t₁ + x)⋅(-t₂ + x)⋅\n",
       "────────────────────────────────────── + ─────────────────────────────────────\n",
       "+ t₉)⋅(-t₆ + t₉)⋅(-t₇ + t₉)⋅(-t₈ + t₉)   (-t₀ + t₈)⋅(-t₁ + t₈)⋅(-t₂ + t₈)⋅(-t₃\n",
       "\n",
       "(-t₃ + x)⋅(-t₄ + x)⋅(-t₅ + x)⋅(-t₆ + x)⋅(-t₇ + x)⋅(-t₉ + x)     3.5⋅(-t₀ + x)⋅\n",
       "──────────────────────────────────────────────────────────── + ───────────────\n",
       " + t₈)⋅(-t₄ + t₈)⋅(-t₅ + t₈)⋅(-t₆ + t₈)⋅(-t₇ + t₈)⋅(t₈ - t₉)   (-t₀ + t₇)⋅(-t₁\n",
       "\n",
       "(-t₁ + x)⋅(-t₂ + x)⋅(-t₃ + x)⋅(-t₄ + x)⋅(-t₅ + x)⋅(-t₆ + x)⋅(-t₈ + x)⋅(-t₉ + x\n",
       "──────────────────────────────────────────────────────────────────────────────\n",
       " + t₇)⋅(-t₂ + t₇)⋅(-t₃ + t₇)⋅(-t₄ + t₇)⋅(-t₅ + t₇)⋅(-t₆ + t₇)⋅(t₇ - t₈)⋅(t₇ - \n",
       "\n",
       ")      0.67⋅(-t₀ + x)⋅(-t₁ + x)⋅(-t₂ + x)⋅(-t₃ + x)⋅(-t₄ + x)⋅(-t₅ + x)⋅(-t₇ +\n",
       "─── + ────────────────────────────────────────────────────────────────────────\n",
       "t₉)   (-t₀ + t₆)⋅(-t₁ + t₆)⋅(-t₂ + t₆)⋅(-t₃ + t₆)⋅(-t₄ + t₆)⋅(-t₅ + t₆)⋅(t₆ - \n",
       "\n",
       " x)⋅(-t₈ + x)⋅(-t₉ + x)   2.7⋅(-t₀ + x)⋅(-t₁ + x)⋅(-t₂ + x)⋅(-t₃ + x)⋅(-t₄ + x\n",
       "─────────────────────── + ────────────────────────────────────────────────────\n",
       "t₇)⋅(t₆ - t₈)⋅(t₆ - t₉)   (-t₀ + t₅)⋅(-t₁ + t₅)⋅(-t₂ + t₅)⋅(-t₃ + t₅)⋅(-t₄ + t\n",
       "\n",
       ")⋅(-t₆ + x)⋅(-t₇ + x)⋅(-t₈ + x)⋅(-t₉ + x)    1.5⋅(-t₀ + x)⋅(-t₁ + x)⋅(-t₂ + x)\n",
       "────────────────────────────────────────── + ─────────────────────────────────\n",
       "₅)⋅(t₅ - t₆)⋅(t₅ - t₇)⋅(t₅ - t₈)⋅(t₅ - t₉)   (-t₀ + t₄)⋅(-t₁ + t₄)⋅(-t₂ + t₄)⋅\n",
       "\n",
       "⋅(-t₃ + x)⋅(-t₅ + x)⋅(-t₆ + x)⋅(-t₇ + x)⋅(-t₈ + x)⋅(-t₉ + x)   2.6⋅(-t₀ + x)⋅(\n",
       "──────────────────────────────────────────────────────────── + ───────────────\n",
       "(-t₃ + t₄)⋅(t₄ - t₅)⋅(t₄ - t₆)⋅(t₄ - t₇)⋅(t₄ - t₈)⋅(t₄ - t₉)    (-t₀ + t₃)⋅(-t\n",
       "\n",
       "-t₁ + x)⋅(-t₂ + x)⋅(-t₄ + x)⋅(-t₅ + x)⋅(-t₆ + x)⋅(-t₇ + x)⋅(-t₈ + x)⋅(-t₉ + x)\n",
       "──────────────────────────────────────────────────────────────────────────────\n",
       "₁ + t₃)⋅(-t₂ + t₃)⋅(t₃ - t₄)⋅(t₃ - t₅)⋅(t₃ - t₆)⋅(t₃ - t₇)⋅(t₃ - t₈)⋅(t₃ - t₉)\n",
       "\n",
       "   1.6⋅(-t₀ + x)⋅(-t₁ + x)⋅(-t₃ + x)⋅(-t₄ + x)⋅(-t₅ + x)⋅(-t₆ + x)⋅(-t₇ + x)⋅(\n",
       " + ───────────────────────────────────────────────────────────────────────────\n",
       "    (-t₀ + t₂)⋅(-t₁ + t₂)⋅(t₂ - t₃)⋅(t₂ - t₄)⋅(t₂ - t₅)⋅(t₂ - t₆)⋅(t₂ - t₇)⋅(t\n",
       "\n",
       "-t₈ + x)⋅(-t₉ + x)   2.1⋅(-t₀ + x)⋅(-t₂ + x)⋅(-t₃ + x)⋅(-t₄ + x)⋅(-t₅ + x)⋅(-t\n",
       "────────────────── + ─────────────────────────────────────────────────────────\n",
       "₂ - t₈)⋅(t₂ - t₉)      (-t₀ + t₁)⋅(t₁ - t₂)⋅(t₁ - t₃)⋅(t₁ - t₄)⋅(t₁ - t₅)⋅(t₁ \n",
       "\n",
       "₆ + x)⋅(-t₇ + x)⋅(-t₈ + x)⋅(-t₉ + x)\n",
       "────────────────────────────────────\n",
       "- t₆)⋅(t₁ - t₇)⋅(t₁ - t₈)⋅(t₁ - t₉) "
      ]
     },
     "execution_count": 6,
     "metadata": {},
     "output_type": "execute_result"
    }
   ],
   "source": [
    "xs=[0.0,0.2,0.4,0.6,0.8,1.2,1.4,1.6,1.8,2.0]\n",
    "ys=[2.0,2.1,1.6,2.6,1.5,2.7,0.67,3.5,0.94,2.0]\n",
    "size=len(xs)\n",
    "kwd_ts='t(0:{})'.format(size)\n",
    "t=sy.symbols(kwd_ts)\n",
    "x=sy.symbols('x')\n",
    "x\n",
    "list_size=[i for i in range(size)]\n",
    "lixs=[]\n",
    "for i in range(size):\n",
    "    lixs.append(sy.prod([(x-t[k])/(t[i]-t[k]) for k in filter(lambda x:x is not i, list_size)]))\n",
    "Px=0\n",
    "for i in range(size):\n",
    "    Px+=ys[i]*lixs[i]\n",
    "Px"
   ]
  },
  {
   "cell_type": "code",
   "execution_count": 7,
   "metadata": {},
   "outputs": [],
   "source": [
    "subs={t[k]:xs[k] for k in range(size)}\n",
    "P_subts=Px.subs(subs)"
   ]
  },
  {
   "cell_type": "code",
   "execution_count": 8,
   "metadata": {},
   "outputs": [],
   "source": [
    "\n",
    "legendre=sy.Lambda(x,P_subts.subs({x:x}))"
   ]
  },
  {
   "cell_type": "code",
   "execution_count": 9,
   "metadata": {},
   "outputs": [
    {
     "name": "stdout",
     "output_type": "stream",
     "text": [
      "[2.00000000000000 5.21057907440319 6.88577000639673 7.46310114806561\n",
      " 7.29210213552447 6.64729253631776 5.73977316436325 4.72752493962344\n",
      " 3.72451521817907 2.80870667831678 2.02905911963008 1.41160991496680\n",
      " 0.964714349340236 0.683522685652140 0.553766514256015 0.554922772017295\n",
      " 0.662819756603701 0.851745513264062 1.09611513432727 1.37174978607481\n",
      " 1.65681666351031 1.93247557086811 2.18327443446972 2.39733277475188\n",
      " 2.56634899595412 2.68546429506479 2.75301304618568 2.77018668248311\n",
      " 2.74063537535115 2.67002919931731 2.56559797157528 2.43566656683092\n",
      " 2.28920023139853 2.13537225518292 1.98316430633011 1.84100779092493\n",
      " 1.71647276915780 1.61600923987487 1.54474399736686 1.50633476764026\n",
      " 1.50288194625233 1.53489698607685 1.60132532110159 1.69962066154098\n",
      " 1.82586655617796 1.97494028992859 2.14071346814999 2.31628303418819\n",
      " 2.49422597308700 2.66687057225096 2.82657683917695 2.96601851713789\n",
      " 3.07845909192000 3.15801424638069 3.19989339470890 3.20061321483212\n",
      " 3.15817649542579 3.07221012343975 2.94405665896474 2.77681467661768\n",
      " 2.57532389642940 2.34609208247100 2.09716175415663 1.83791593330982\n",
      " 1.57882343967868 1.33112564863160 1.10646813725951 0.916482269054421\n",
      " 0.772323502724621 0.684175057547449 0.660727525948130 0.708647093730029\n",
      " 0.832047209566363 1.03198083799674 1.30597283425343 1.64761449477225\n",
      " 2.04624496422129 2.48674691830735 2.94948679149491 3.41043278009609\n",
      " 3.84148692396159 4.21107075422274 4.48500729020352 4.62774557573780\n",
      " 4.60397746369280 4.38069998751282 3.92978040005960 3.23108481293573\n",
      " 2.27623533383628 1.07306467528081 -0.349158604666724 -1.93365677037898\n",
      " -3.58913961588365 -5.18178482025562 -6.52611092707035 -7.37464717930829\n",
      " -7.40629958515566 -6.21330762275160 -3.28668091309096 2.00000000000000]\n"
     ]
    }
   ],
   "source": [
    "pltx=np.linspace(0,2,100)\n",
    "myfunc=np.vectorize(legendre)\n",
    "plty=myfunc(pltx)\n",
    "print(plty)"
   ]
  },
  {
   "cell_type": "code",
   "execution_count": 10,
   "metadata": {
    "collapsed": true
   },
   "outputs": [],
   "source": [
    "import matplotlib.pyplot as plt\n",
    "%matplotlib inline"
   ]
  },
  {
   "cell_type": "code",
   "execution_count": 11,
   "metadata": {},
   "outputs": [
    {
     "data": {
      "text/plain": [
       "[<matplotlib.lines.Line2D at 0x2589ebeff98>]"
      ]
     },
     "execution_count": 11,
     "metadata": {},
     "output_type": "execute_result"
    },
    {
     "data": {
      "image/png": "[encoded data removed]",
      "text/plain": [
       "<matplotlib.figure.Figure at 0x2589ebcc198>"
      ]
     },
     "metadata": {},
     "output_type": "display_data"
    }
   ],
   "source": [
    "fig,ax=plt.subplots()\n",
    "ax.plot(pltx,plty)\n",
    "ax.plot(xs,ys,'gx')"
   ]
  },
  {
   "cell_type": "code",
   "execution_count": 12,
   "metadata": {
    "collapsed": true
   },
   "outputs": [],
   "source": [
    "# final code is...."
   ]
  },
  {
   "cell_type": "code",
   "execution_count": 13,
   "metadata": {},
   "outputs": [
    {
     "data": {
      "text/plain": [
       "[<matplotlib.lines.Line2D at 0x2589effa4e0>]"
      ]
     },
     "execution_count": 13,
     "metadata": {},
     "output_type": "execute_result"
    },
    {
     "data": {
      "image/png": "[encoded data removed]",
      "text/plain": [
       "<matplotlib.figure.Figure at 0x2589ef18ac8>"
      ]
     },
     "metadata": {},
     "output_type": "display_data"
    }
   ],
   "source": [
    "ts=[0.0,0.2,0.4,0.6,0.8,1.2,1.4,1.6,1.8,2.0]\n",
    "ys=[2.0,2.1,1.6,2.6,1.5,2.7,0.67,3.5,0.94,2.0]\n",
    "size=len(xs)\n",
    "kwd_ts='t(0:{})'.format(size)\n",
    "t=sy.symbols(kwd_ts)\n",
    "x=sy.symbols('x')\n",
    "\n",
    "itr=[i for i in range(size)]\n",
    "lixs=[]\n",
    "for i in range(size):\n",
    "    lixs.append(sy.prod([(x-t[k])/(t[i]-t[k]) for k in filter(lambda x:x is not i, itr)]))\n",
    "P_abstract=0\n",
    "for i in range(size):\n",
    "    P_abstract+=ys[i]*lixs[i]\n",
    "    \n",
    "vals={t[k]:ts[k] for k in range(size)}\n",
    "Pts=P_abstract.subs(vals)\n",
    "\n",
    "lagrange=sy.Lambda(x,Pts.subs({x:x}))\n",
    "pltx=np.linspace(0,2,100)\n",
    "lagrange=np.vectorize(lagrange)\n",
    "plty=lagrange(pltx)\n",
    "\n",
    "fig,ax=plt.subplots()\n",
    "ax.plot(pltx,plty)\n",
    "ax.plot(xs,ys,'gx')"
   ]
  },
  {
   "cell_type": "markdown",
   "metadata": {},
   "source": [
    "# vandermonde"
   ]
  },
  {
   "cell_type": "code",
   "execution_count": 14,
   "metadata": {},
   "outputs": [
    {
     "data": {
      "text/plain": [
       "array([  5.47970834e+02,  -4.82500672e+03,   1.77785657e+04,\n",
       "        -3.55800678e+04,   4.19740211e+04,  -2.95990240e+04,\n",
       "         1.20294681e+04,  -2.53055213e+03,   2.05373611e+02,\n",
       "         2.00000000e+00])"
      ]
     },
     "execution_count": 14,
     "metadata": {},
     "output_type": "execute_result"
    }
   ],
   "source": [
    "xs=[0.0,0.2,0.4,0.6,0.8,1.2,1.4,1.6,1.8,2.0]\n",
    "ys=[2.0,2.1,1.6,2.6,1.5,2.7,0.67,3.5,0.94,2.0]\n",
    "vander=np.vander(xs)\n",
    "vander\n",
    "solve=np.linalg.inv(vander) @ ys\n",
    "solve"
   ]
  },
  {
   "cell_type": "code",
   "execution_count": 15,
   "metadata": {},
   "outputs": [
    {
     "data": {
      "image/png": "[encoded data removed]",
      "text/latex": [
       "$$2.0$$"
      ],
      "text/plain": [
       "2.00000000000000"
      ]
     },
     "execution_count": 15,
     "metadata": {},
     "output_type": "execute_result"
    }
   ],
   "source": [
    "legendre(0)"
   ]
  },
  {
   "cell_type": "code",
   "execution_count": 16,
   "metadata": {},
   "outputs": [],
   "source": [
    "power=[x**k for k in range(size)[::-1]]\n",
    "testfunc=sy.Lambda(x,np.dot(solve,power).subs({x:x}))"
   ]
  },
  {
   "cell_type": "code",
   "execution_count": 17,
   "metadata": {},
   "outputs": [
    {
     "data": {
      "image/png": "[encoded data removed]",
      "text/latex": [
       "$$7.14857589238788 \\cdot 10^{16}$$"
      ],
      "text/plain": [
       "7.14857589238788e+16"
      ]
     },
     "execution_count": 17,
     "metadata": {},
     "output_type": "execute_result"
    }
   ],
   "source": [
    "legendre(38)"
   ]
  },
  {
   "cell_type": "code",
   "execution_count": 18,
   "metadata": {},
   "outputs": [
    {
     "data": {
      "image/png": "[encoded data removed]",
      "text/latex": [
       "$$7.14857589239602 \\cdot 10^{16}$$"
      ],
      "text/plain": [
       "7.14857589239602e+16"
      ]
     },
     "execution_count": 18,
     "metadata": {},
     "output_type": "execute_result"
    }
   ],
   "source": [
    "testfunc(38)"
   ]
  },
  {
   "cell_type": "code",
   "execution_count": 19,
   "metadata": {},
   "outputs": [
    {
     "data": {
      "image/png": "[encoded data removed]",
      "text/latex": [
       "$$\\left( x \\mapsto 547.970834022907 x^{9} - 4825.0067171028 x^{8} + 17778.565744899 x^{7} - 35580.0677910566 x^{6} + 41974.0211124125 x^{5} - 29599.0239542425 x^{4} + 12029.4681024198 x^{3} - 2530.55213293991 x^{2} + 205.373611111376 x + 2.0 \\right)$$"
      ],
      "text/plain": [
       "                      9                    8                    7             \n",
       "x ↦ 547.970834022907⋅x  - 4825.0067171028⋅x  + 17778.565744899⋅x  - 35580.0677\n",
       "\n",
       "        6                     5                     4                     3   \n",
       "910566⋅x  + 41974.0211124125⋅x  - 29599.0239542425⋅x  + 12029.4681024198⋅x  - \n",
       "\n",
       "                  2                           \n",
       "2530.55213293991⋅x  + 205.373611111376⋅x + 2.0"
      ]
     },
     "execution_count": 19,
     "metadata": {},
     "output_type": "execute_result"
    }
   ],
   "source": [
    "testfunc"
   ]
  },
  {
   "cell_type": "code",
   "execution_count": 20,
   "metadata": {},
   "outputs": [
    {
     "name": "stdout",
     "output_type": "stream",
     "text": [
      "Lambda(x, 547.970834022907*x**9 - 4825.0067171028*x**8 + 17778.565744899*x**7 - 35580.0677910566*x**6 + 41974.0211124125*x**5 - 29599.0239542425*x**4 + 12029.4681024198*x**3 - 2530.55213293991*x**2 + 205.373611111376*x + 2.0)\n"
     ]
    },
    {
     "data": {
      "text/plain": [
       "[<matplotlib.lines.Line2D at 0x2589f55e128>]"
      ]
     },
     "execution_count": 20,
     "metadata": {},
     "output_type": "execute_result"
    },
    {
     "data": {
      "image/png": "[encoded data removed]",
      "text/plain": [
       "<matplotlib.figure.Figure at 0x2589cab4d68>"
      ]
     },
     "metadata": {},
     "output_type": "display_data"
    }
   ],
   "source": [
    "import numpy as np\n",
    "import sympy as sy\n",
    "from matplotlib import pyplot as plt\n",
    "%matplotlib inline\n",
    "sy.init_printing()\n",
    "xs=[0.0,0.2,0.4,0.6,0.8,1.2,1.4,1.6,1.8,2.0]\n",
    "ys=[2.0,2.1,1.6,2.6,1.5,2.7,0.67,3.5,0.94,2.0]\n",
    "size=len(xs)\n",
    "vander=np.vander(xs)\n",
    "coeff=np.linalg.inv(vander) @ ys\n",
    "x=sy.symbols('x')\n",
    "power=[x**k for k in range(size)[::-1]]\n",
    "lagrange_poly=sy.Lambda(x,np.dot(coeff,power).subs({x:x}))\n",
    "print(lagrange_poly)\n",
    "lagrange_poly=np.vectorize(lagrange_poly)\n",
    "pltx=np.linspace(0,2,100)\n",
    "plty=lagrange_poly(pltx)\n",
    "fig,ax=plt.subplots()\n",
    "ax.plot(pltx,plty)\n",
    "ax.plot(xs,ys,'gx')"
   ]
  },
  {
   "cell_type": "code",
   "execution_count": 21,
   "metadata": {},
   "outputs": [
    {
     "data": {
      "text/plain": [
       "<numpy.lib.function_base.vectorize at 0x2589c7a76a0>"
      ]
     },
     "execution_count": 21,
     "metadata": {},
     "output_type": "execute_result"
    }
   ],
   "source": [
    "lagrange_poly\n"
   ]
  },
  {
   "cell_type": "code",
   "execution_count": null,
   "metadata": {
    "collapsed": true
   },
   "outputs": [],
   "source": []
  }
 ],
 "metadata": {
  "kernelspec": {
   "display_name": "Python 3",
   "language": "python",
   "name": "python3"
  },
  "language_info": {
   "codemirror_mode": {
    "name": "ipython",
    "version": 3
   },
   "file_extension": ".py",
   "mimetype": "text/x-python",
   "name": "python",
   "nbconvert_exporter": "python",
   "pygments_lexer": "ipython3",
   "version": "3.5.2"
  }
 },
 "nbformat": 4,
 "nbformat_minor": 1
}
