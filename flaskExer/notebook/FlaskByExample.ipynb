{
 "cells": [
  {
   "cell_type": "markdown",
   "metadata": {},
   "source": [
    "# This notebook is my study notebook of Flask by Example"
   ]
  },
  {
   "cell_type": "markdown",
   "metadata": {},
   "source": [
    "- Hello reader! Let's get started with building some Flask Application.\n",
    "- Flask is a micro 'framework' for Python web development. \n",
    "- A 'framework', in the simplest terms, is a library or collection of librarries that aims to solve a part of a generic problem instead of a complete specific one. \n",
    "- When building web applications, there are some problems that will always need to be solved, such as routing from URLs to resources, inserting dynamic data into HTML, and interracting with an end user.\n",
    "- Flask is a micro framework because it implements only core functionality (including routing) but leaves more advanced functionality(including authentication and database ORMs) to extensions. \n",
    "- The result of this is less initial setup for the first-time user and more choice and flexibility for the experienced user.\n",
    "- This is in contrast ith 'fuller' frameworks, such as Django, which dictate their  own ORM and authentification technologies.\n",
    "- As we'll discuss, our Hello World application in Flask can be written in only seven lines of code, with the entire application consinsting of a single file. "
   ]
  },
  {
   "cell_type": "markdown",
   "metadata": {},
   "source": [
    "# Does that sound good? Let's get going!\n",
    "- Now, we will create a basic web page and serve it using Flask's build-in server to localhost.\n",
    "- This means that we will run a web server on our local machine that we can easily make requests to from our local machine. this is very useful for development but not suited for production applications.\n",
    "- Later on, we'll take a look at how to serve Flask web applications using the popular Apache web server."
   ]
  },
  {
   "cell_type": "markdown",
   "metadata": {},
   "source": [
    "# Writing \"Hello World\""
   ]
  },
  {
   "cell_type": "code",
   "execution_count": null,
   "metadata": {},
   "outputs": [
    {
     "name": "stderr",
     "output_type": "stream",
     "text": [
      "127.0.0.1 - - [04/Jun/2017 20:09:08] \"GET / HTTP/1.1\" 200 -\n"
     ]
    }
   ],
   "source": [
    "from flask import Flask\n",
    "app = Flask(__name__)\n",
    "\n",
    "@app.route(\"/\")\n",
    "def hello():\n",
    "    return \"Hello World!\"\n",
    "\n",
    "if __name__ == \"__main__\":\n",
    "    app.run()\n"
   ]
  },
  {
   "cell_type": "code",
   "execution_count": null,
   "metadata": {
    "collapsed": true
   },
   "outputs": [],
   "source": []
  }
 ],
 "metadata": {
  "kernelspec": {
   "display_name": "Python 3",
   "language": "python",
   "name": "python3"
  },
  "language_info": {
   "codemirror_mode": {
    "name": "ipython",
    "version": 3
   },
   "file_extension": ".py",
   "mimetype": "text/x-python",
   "name": "python",
   "nbconvert_exporter": "python",
   "pygments_lexer": "ipython3",
   "version": "3.5.3"
  }
 },
 "nbformat": 4,
 "nbformat_minor": 2
}
