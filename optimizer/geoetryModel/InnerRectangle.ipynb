{
 "cells": [
  {
   "cell_type": "code",
   "execution_count": 19,
   "metadata": {
    "collapsed": true
   },
   "outputs": [],
   "source": [
    "import sympy as sy\n",
    "sy.init_printing(use_unicode=False)"
   ]
  },
  {
   "cell_type": "code",
   "execution_count": 3,
   "metadata": {},
   "outputs": [],
   "source": [
    "x1,x2,x3,x4=sy.symbols('x(1:5)')\n",
    "y1,y2,y3,y4=sy.symbols('y(1:5)')"
   ]
  },
  {
   "cell_type": "code",
   "execution_count": 4,
   "metadata": {},
   "outputs": [],
   "source": [
    "xs=[x1,x2,x3,x4]\n",
    "ys=[y1,y2,y3,y4]"
   ]
  },
  {
   "cell_type": "code",
   "execution_count": 5,
   "metadata": {},
   "outputs": [],
   "source": [
    "b1x,b2x,b3x,b4x=sy.symbols('b_{(1:5)x}')\n",
    "b1y,b2y,b3y,b4y=sy.symbols('b_{(1:5)y}')\n",
    "e1x,e2x,e3x,e4x=sy.symbols('e_{(1:5)x}')\n",
    "e1y,e2y,e3y,e4y=sy.symbols('e_{(1:5)y}')"
   ]
  },
  {
   "cell_type": "code",
   "execution_count": 6,
   "metadata": {
    "collapsed": true
   },
   "outputs": [],
   "source": [
    "b1 = [b1x,b1y]\n",
    "e1 = [e1x,e1y]\n",
    "\n",
    "b2 = [b2x,b2y]\n",
    "e2 = [e2x,e2y]\n",
    "\n",
    "b3 = [b3x,b3y]\n",
    "e3 = [e3x,e3y]\n",
    "\n",
    "b4 = [b4x,b4y]\n",
    "e4 = [e4x,e4y]"
   ]
  },
  {
   "cell_type": "code",
   "execution_count": 7,
   "metadata": {
    "collapsed": true
   },
   "outputs": [],
   "source": [
    "#example\n",
    "B1 = [1, -1]\n",
    "E1 = [-1, 1]\n",
    "\n",
    "B2 = [-1, 2]\n",
    "E2 = [1, 4]\n",
    "\n",
    "B3 = [2, 4]\n",
    "E3 = [4, 2]\n",
    "\n",
    "B4 = [4, 1]\n",
    "E4 = [2, -1]"
   ]
  },
  {
   "cell_type": "code",
   "execution_count": 8,
   "metadata": {},
   "outputs": [],
   "source": [
    "def on_segment(b,e,x,y):\n",
    "    return (e[0]-b[0])*(y-b[1])-(e[1]-b[1])*(x-b[0])\n",
    "\n",
    "def orthogonal(lx, ly, cx, cy, rx, ry):\n",
    "    return (lx-cx)*(rx-cx)+(ly-cy)*(ry-cy)"
   ]
  },
  {
   "cell_type": "code",
   "execution_count": 9,
   "metadata": {},
   "outputs": [
    {
     "data": {
      "image/png": "[encoded data removed]",
      "text/latex": [
       "$$\\left [ \\left(x_{1} - x_{2}\\right) \\left(- x_{2} + x_{3}\\right) + \\left(y_{1} - y_{2}\\right) \\left(- y_{2} + y_{3}\\right), \\quad \\left(x_{2} - x_{3}\\right) \\left(- x_{3} + x_{4}\\right) + \\left(y_{2} - y_{3}\\right) \\left(- y_{3} + y_{4}\\right), \\quad \\left(x_{1} - x_{4}\\right) \\left(x_{3} - x_{4}\\right) + \\left(y_{1} - y_{4}\\right) \\left(y_{3} - y_{4}\\right), \\quad \\left(- x_{1} + x_{2}\\right) \\left(- x_{1} + x_{4}\\right) + \\left(- y_{1} + y_{2}\\right) \\left(- y_{1} + y_{4}\\right)\\right ]$$"
      ],
      "text/plain": [
       "[(x1 - x2)*(-x2 + x3) + (y1 - y2)*(-y2 + y3), (x2 - x3)*(-x3 + x4) + (y2 - y3)\n",
       "*(-y3 + y4), (x1 - x4)*(x3 - x4) + (y1 - y4)*(y3 - y4), (-x1 + x2)*(-x1 + x4) \n",
       "+ (-y1 + y2)*(-y1 + y4)]"
      ]
     },
     "execution_count": 9,
     "metadata": {},
     "output_type": "execute_result"
    }
   ],
   "source": [
    "f1=orthogonal(x1, y1, x2, y2, x3, y3)\n",
    "f2=orthogonal(x2, y2, x3, y3, x4, y4)\n",
    "f3=orthogonal(x3, y3, x4, y4, x1, y1)\n",
    "f4=orthogonal(x4, y4, x1, y1, x2, y2)\n",
    "fs=[f1,f2,f3,f4]\n",
    "fs"
   ]
  },
  {
   "cell_type": "code",
   "execution_count": 10,
   "metadata": {},
   "outputs": [
    {
     "data": {
      "image/png": "[encoded data removed]",
      "text/latex": [
       "$$\\left [ \\left(- b_{1x} + e_{1x}\\right) \\left(- b_{1y} + y_{1}\\right) - \\left(- b_{1x} + x_{1}\\right) \\left(- b_{1y} + e_{1y}\\right), \\quad \\left(- b_{2x} + e_{2x}\\right) \\left(- b_{2y} + y_{2}\\right) - \\left(- b_{2x} + x_{2}\\right) \\left(- b_{2y} + e_{2y}\\right), \\quad \\left(- b_{3x} + e_{3x}\\right) \\left(- b_{3y} + y_{3}\\right) - \\left(- b_{3x} + x_{3}\\right) \\left(- b_{3y} + e_{3y}\\right), \\quad \\left(- b_{4x} + e_{4x}\\right) \\left(- b_{4y} + y_{4}\\right) - \\left(- b_{4x} + x_{4}\\right) \\left(- b_{4y} + e_{4y}\\right)\\right ]$$"
      ],
      "text/plain": [
       "[(-b_{1x} + e_{1x})*(-b_{1y} + y1) - (-b_{1x} + x1)*(-b_{1y} + e_{1y}), (-b_{2\n",
       "x} + e_{2x})*(-b_{2y} + y2) - (-b_{2x} + x2)*(-b_{2y} + e_{2y}), (-b_{3x} + e_\n",
       "{3x})*(-b_{3y} + y3) - (-b_{3x} + x3)*(-b_{3y} + e_{3y}), (-b_{4x} + e_{4x})*(\n",
       "-b_{4y} + y4) - (-b_{4x} + x4)*(-b_{4y} + e_{4y})]"
      ]
     },
     "execution_count": 10,
     "metadata": {},
     "output_type": "execute_result"
    }
   ],
   "source": [
    "g1=on_segment(b1,e1,x1,y1)\n",
    "g2=on_segment(b2,e2,x2,y2)\n",
    "g3=on_segment(b3,e3,x3,y3)\n",
    "g4=on_segment(b4,e4,x4,y4)\n",
    "gs=[g1,g2,g3,g4]\n",
    "gs"
   ]
  },
  {
   "cell_type": "code",
   "execution_count": 11,
   "metadata": {},
   "outputs": [
    {
     "data": {
      "image/png": "[encoded data removed]",
      "text/latex": [
       "$$\\left [ \\lambda_{f_1}, \\quad \\lambda_{f_2}, \\quad \\lambda_{f_3}, \\quad \\lambda_{f_4}\\right ]$$"
      ],
      "text/plain": [
       "[\\lambda_{f_1}, \\lambda_{f_2}, \\lambda_{f_3}, \\lambda_{f_4}]"
      ]
     },
     "execution_count": 11,
     "metadata": {},
     "output_type": "execute_result"
    }
   ],
   "source": [
    "lf1,lf2,lf3,lf4=sy.symbols('\\lambda_{f_(1:5)}')\n",
    "lfs=[lf1,lf2,lf3,lf4]\n",
    "lfs"
   ]
  },
  {
   "cell_type": "code",
   "execution_count": 12,
   "metadata": {},
   "outputs": [
    {
     "data": {
      "image/png": "[encoded data removed]",
      "text/latex": [
       "$$\\left [ \\lambda_{g_1}, \\quad \\lambda_{g_2}, \\quad \\lambda_{g_3}, \\quad \\lambda_{g_4}\\right ]$$"
      ],
      "text/plain": [
       "[\\lambda_{g_1}, \\lambda_{g_2}, \\lambda_{g_3}, \\lambda_{g_4}]"
      ]
     },
     "execution_count": 12,
     "metadata": {},
     "output_type": "execute_result"
    }
   ],
   "source": [
    "lg1,lg2,lg3,lg4=sy.symbols('\\lambda_{g_(1:5)}')\n",
    "lgs=[lg1,lg2,lg3,lg4]\n",
    "lgs"
   ]
  },
  {
   "cell_type": "code",
   "execution_count": 13,
   "metadata": {
    "collapsed": true
   },
   "outputs": [],
   "source": [
    "area=(x4-x1)*(y2-y1)-(x2-x1)*(y4-y1)"
   ]
  },
  {
   "cell_type": "code",
   "execution_count": 14,
   "metadata": {},
   "outputs": [
    {
     "data": {
      "image/png": "[encoded data removed]",
      "text/latex": [
       "$$- \\left(- x_{1} + x_{2}\\right) \\left(- y_{1} + y_{4}\\right) + \\left(- x_{1} + x_{4}\\right) \\left(- y_{1} + y_{2}\\right)$$"
      ],
      "text/plain": [
       "-(-x1 + x2)*(-y1 + y4) + (-x1 + x4)*(-y1 + y2)"
      ]
     },
     "execution_count": 14,
     "metadata": {},
     "output_type": "execute_result"
    }
   ],
   "source": [
    "area"
   ]
  },
  {
   "cell_type": "code",
   "execution_count": 20,
   "metadata": {},
   "outputs": [
    {
     "data": {
      "image/png": "[encoded data removed]",
      "text/latex": [
       "$$- \\lambda_{f_1} \\left(\\left(x_{1} - x_{2}\\right) \\left(- x_{2} + x_{3}\\right) + \\left(y_{1} - y_{2}\\right) \\left(- y_{2} + y_{3}\\right)\\right) - \\lambda_{f_2} \\left(\\left(x_{2} - x_{3}\\right) \\left(- x_{3} + x_{4}\\right) + \\left(y_{2} - y_{3}\\right) \\left(- y_{3} + y_{4}\\right)\\right) - \\lambda_{f_3} \\left(\\left(x_{1} - x_{4}\\right) \\left(x_{3} - x_{4}\\right) + \\left(y_{1} - y_{4}\\right) \\left(y_{3} - y_{4}\\right)\\right) - \\lambda_{f_4} \\left(\\left(- x_{1} + x_{2}\\right) \\left(- x_{1} + x_{4}\\right) + \\left(- y_{1} + y_{2}\\right) \\left(- y_{1} + y_{4}\\right)\\right) - \\lambda_{g_1} \\left(\\left(- b_{1x} + e_{1x}\\right) \\left(- b_{1y} + y_{1}\\right) - \\left(- b_{1x} + x_{1}\\right) \\left(- b_{1y} + e_{1y}\\right)\\right) - \\lambda_{g_2} \\left(\\left(- b_{2x} + e_{2x}\\right) \\left(- b_{2y} + y_{2}\\right) - \\left(- b_{2x} + x_{2}\\right) \\left(- b_{2y} + e_{2y}\\right)\\right) - \\lambda_{g_3} \\left(\\left(- b_{3x} + e_{3x}\\right) \\left(- b_{3y} + y_{3}\\right) - \\left(- b_{3x} + x_{3}\\right) \\left(- b_{3y} + e_{3y}\\right)\\right) - \\lambda_{g_4} \\left(\\left(- b_{4x} + e_{4x}\\right) \\left(- b_{4y} + y_{4}\\right) - \\left(- b_{4x} + x_{4}\\right) \\left(- b_{4y} + e_{4y}\\right)\\right) - \\left(- x_{1} + x_{2}\\right) \\left(- y_{1} + y_{4}\\right) + \\left(- x_{1} + x_{4}\\right) \\left(- y_{1} + y_{2}\\right)$$"
      ],
      "text/plain": [
       "-\\lambda_{f_1}*((x1 - x2)*(-x2 + x3) + (y1 - y2)*(-y2 + y3)) - \\lambda_{f_2}*(\n",
       "(x2 - x3)*(-x3 + x4) + (y2 - y3)*(-y3 + y4)) - \\lambda_{f_3}*((x1 - x4)*(x3 - \n",
       "x4) + (y1 - y4)*(y3 - y4)) - \\lambda_{f_4}*((-x1 + x2)*(-x1 + x4) + (-y1 + y2)\n",
       "*(-y1 + y4)) - \\lambda_{g_1}*((-b_{1x} + e_{1x})*(-b_{1y} + y1) - (-b_{1x} + x\n",
       "1)*(-b_{1y} + e_{1y})) - \\lambda_{g_2}*((-b_{2x} + e_{2x})*(-b_{2y} + y2) - (-\n",
       "b_{2x} + x2)*(-b_{2y} + e_{2y})) - \\lambda_{g_3}*((-b_{3x} + e_{3x})*(-b_{3y} \n",
       "+ y3) - (-b_{3x} + x3)*(-b_{3y} + e_{3y})) - \\lambda_{g_4}*((-b_{4x} + e_{4x})\n",
       "*(-b_{4y} + y4) - (-b_{4x} + x4)*(-b_{4y} + e_{4y})) - (-x1 + x2)*(-y1 + y4) +\n",
       " (-x1 + x4)*(-y1 + y2)"
      ]
     },
     "execution_count": 20,
     "metadata": {},
     "output_type": "execute_result"
    }
   ],
   "source": [
    "Phi=area-sy.Matrix(lfs).dot(sy.Matrix(fs))-sy.Matrix(lgs).dot(sy.Matrix(gs))\n",
    "Phi"
   ]
  },
  {
   "cell_type": "code",
   "execution_count": 21,
   "metadata": {},
   "outputs": [
    {
     "data": {
      "image/png": "[encoded data removed]",
      "text/latex": [
       "$$\\left [ - \\lambda_{f_1} \\left(- x_{2} + x_{3}\\right) - \\lambda_{f_3} \\left(x_{3} - x_{4}\\right) - \\lambda_{f_4} \\left(2 x_{1} - x_{2} - x_{4}\\right) - \\lambda_{g_1} \\left(b_{1y} - e_{1y}\\right) - y_{2} + y_{4}, \\quad - \\lambda_{f_1} \\left(- y_{2} + y_{3}\\right) - \\lambda_{f_3} \\left(y_{3} - y_{4}\\right) - \\lambda_{f_4} \\left(2 y_{1} - y_{2} - y_{4}\\right) - \\lambda_{g_1} \\left(- b_{1x} + e_{1x}\\right) + x_{2} - x_{4}, \\quad - \\lambda_{f_1} \\left(- x_{1} + 2 x_{2} - x_{3}\\right) - \\lambda_{f_2} \\left(- x_{3} + x_{4}\\right) - \\lambda_{f_4} \\left(- x_{1} + x_{4}\\right) - \\lambda_{g_2} \\left(b_{2y} - e_{2y}\\right) + y_{1} - y_{4}, \\quad - \\lambda_{f_1} \\left(- y_{1} + 2 y_{2} - y_{3}\\right) - \\lambda_{f_2} \\left(- y_{3} + y_{4}\\right) - \\lambda_{f_4} \\left(- y_{1} + y_{4}\\right) - \\lambda_{g_2} \\left(- b_{2x} + e_{2x}\\right) - x_{1} + x_{4}, \\quad - \\lambda_{f_1} \\left(x_{1} - x_{2}\\right) - \\lambda_{f_2} \\left(- x_{2} + 2 x_{3} - x_{4}\\right) - \\lambda_{f_3} \\left(x_{1} - x_{4}\\right) - \\lambda_{g_3} \\left(b_{3y} - e_{3y}\\right), \\quad - \\lambda_{f_1} \\left(y_{1} - y_{2}\\right) - \\lambda_{f_2} \\left(- y_{2} + 2 y_{3} - y_{4}\\right) - \\lambda_{f_3} \\left(y_{1} - y_{4}\\right) - \\lambda_{g_3} \\left(- b_{3x} + e_{3x}\\right), \\quad - \\lambda_{f_2} \\left(x_{2} - x_{3}\\right) - \\lambda_{f_3} \\left(- x_{1} - x_{3} + 2 x_{4}\\right) - \\lambda_{f_4} \\left(- x_{1} + x_{2}\\right) - \\lambda_{g_4} \\left(b_{4y} - e_{4y}\\right) - y_{1} + y_{2}, \\quad - \\lambda_{f_2} \\left(y_{2} - y_{3}\\right) - \\lambda_{f_3} \\left(- y_{1} - y_{3} + 2 y_{4}\\right) - \\lambda_{f_4} \\left(- y_{1} + y_{2}\\right) - \\lambda_{g_4} \\left(- b_{4x} + e_{4x}\\right) + x_{1} - x_{2}\\right ]$$"
      ],
      "text/plain": [
       "[-\\lambda_{f_1}*(-x2 + x3) - \\lambda_{f_3}*(x3 - x4) - \\lambda_{f_4}*(2*x1 - x\n",
       "2 - x4) - \\lambda_{g_1}*(b_{1y} - e_{1y}) - y2 + y4, -\\lambda_{f_1}*(-y2 + y3)\n",
       " - \\lambda_{f_3}*(y3 - y4) - \\lambda_{f_4}*(2*y1 - y2 - y4) - \\lambda_{g_1}*(-\n",
       "b_{1x} + e_{1x}) + x2 - x4, -\\lambda_{f_1}*(-x1 + 2*x2 - x3) - \\lambda_{f_2}*(\n",
       "-x3 + x4) - \\lambda_{f_4}*(-x1 + x4) - \\lambda_{g_2}*(b_{2y} - e_{2y}) + y1 - \n",
       "y4, -\\lambda_{f_1}*(-y1 + 2*y2 - y3) - \\lambda_{f_2}*(-y3 + y4) - \\lambda_{f_4\n",
       "}*(-y1 + y4) - \\lambda_{g_2}*(-b_{2x} + e_{2x}) - x1 + x4, -\\lambda_{f_1}*(x1 \n",
       "- x2) - \\lambda_{f_2}*(-x2 + 2*x3 - x4) - \\lambda_{f_3}*(x1 - x4) - \\lambda_{g\n",
       "_3}*(b_{3y} - e_{3y}), -\\lambda_{f_1}*(y1 - y2) - \\lambda_{f_2}*(-y2 + 2*y3 - \n",
       "y4) - \\lambda_{f_3}*(y1 - y4) - \\lambda_{g_3}*(-b_{3x} + e_{3x}), -\\lambda_{f_\n",
       "2}*(x2 - x3) - \\lambda_{f_3}*(-x1 - x3 + 2*x4) - \\lambda_{f_4}*(-x1 + x2) - \\l\n",
       "ambda_{g_4}*(b_{4y} - e_{4y}) - y1 + y2, -\\lambda_{f_2}*(y2 - y3) - \\lambda_{f\n",
       "_3}*(-y1 - y3 + 2*y4) - \\lambda_{f_4}*(-y1 + y2) - \\lambda_{g_4}*(-b_{4x} + e_\n",
       "{4x}) + x1 - x2]"
      ]
     },
     "execution_count": 21,
     "metadata": {},
     "output_type": "execute_result"
    }
   ],
   "source": [
    "[sy.diff(Phi,x1),\n",
    "sy.diff(Phi,y1),\n",
    "sy.diff(Phi,x2),\n",
    "sy.diff(Phi,y2),\n",
    "sy.diff(Phi,x3),\n",
    "sy.diff(Phi,y3),\n",
    "sy.diff(Phi,x4),\n",
    "sy.diff(Phi,y4)]"
   ]
  },
  {
   "cell_type": "code",
   "execution_count": 22,
   "metadata": {},
   "outputs": [
    {
     "data": {
      "image/png": "[encoded data removed]",
      "text/latex": [
       "$$\\left [ - \\left(x_{1} - x_{2}\\right) \\left(- x_{2} + x_{3}\\right) - \\left(y_{1} - y_{2}\\right) \\left(- y_{2} + y_{3}\\right), \\quad - \\left(x_{2} - x_{3}\\right) \\left(- x_{3} + x_{4}\\right) - \\left(y_{2} - y_{3}\\right) \\left(- y_{3} + y_{4}\\right), \\quad - \\left(x_{1} - x_{4}\\right) \\left(x_{3} - x_{4}\\right) - \\left(y_{1} - y_{4}\\right) \\left(y_{3} - y_{4}\\right), \\quad - \\left(- x_{1} + x_{2}\\right) \\left(- x_{1} + x_{4}\\right) - \\left(- y_{1} + y_{2}\\right) \\left(- y_{1} + y_{4}\\right), \\quad - \\left(- b_{1x} + e_{1x}\\right) \\left(- b_{1y} + y_{1}\\right) + \\left(- b_{1x} + x_{1}\\right) \\left(- b_{1y} + e_{1y}\\right), \\quad - \\left(- b_{2x} + e_{2x}\\right) \\left(- b_{2y} + y_{2}\\right) + \\left(- b_{2x} + x_{2}\\right) \\left(- b_{2y} + e_{2y}\\right), \\quad - \\left(- b_{3x} + e_{3x}\\right) \\left(- b_{3y} + y_{3}\\right) + \\left(- b_{3x} + x_{3}\\right) \\left(- b_{3y} + e_{3y}\\right), \\quad - \\left(- b_{4x} + e_{4x}\\right) \\left(- b_{4y} + y_{4}\\right) + \\left(- b_{4x} + x_{4}\\right) \\left(- b_{4y} + e_{4y}\\right)\\right ]$$"
      ],
      "text/plain": [
       "[-(x1 - x2)*(-x2 + x3) - (y1 - y2)*(-y2 + y3), -(x2 - x3)*(-x3 + x4) - (y2 - y\n",
       "3)*(-y3 + y4), -(x1 - x4)*(x3 - x4) - (y1 - y4)*(y3 - y4), -(-x1 + x2)*(-x1 + \n",
       "x4) - (-y1 + y2)*(-y1 + y4), -(-b_{1x} + e_{1x})*(-b_{1y} + y1) + (-b_{1x} + x\n",
       "1)*(-b_{1y} + e_{1y}), -(-b_{2x} + e_{2x})*(-b_{2y} + y2) + (-b_{2x} + x2)*(-b\n",
       "_{2y} + e_{2y}), -(-b_{3x} + e_{3x})*(-b_{3y} + y3) + (-b_{3x} + x3)*(-b_{3y} \n",
       "+ e_{3y}), -(-b_{4x} + e_{4x})*(-b_{4y} + y4) + (-b_{4x} + x4)*(-b_{4y} + e_{4\n",
       "y})]"
      ]
     },
     "execution_count": 22,
     "metadata": {},
     "output_type": "execute_result"
    }
   ],
   "source": [
    "[sy.diff(Phi,lf1),\n",
    "sy.diff(Phi,lf2),\n",
    "sy.diff(Phi,lf3),\n",
    "sy.diff(Phi,lf4),\n",
    "sy.diff(Phi,lg1),\n",
    "sy.diff(Phi,lg2),\n",
    "sy.diff(Phi,lg3),\n",
    "sy.diff(Phi,lg4)]"
   ]
  },
  {
   "cell_type": "code",
   "execution_count": null,
   "metadata": {
    "collapsed": true
   },
   "outputs": [],
   "source": []
  }
 ],
 "metadata": {
  "kernelspec": {
   "display_name": "Python 3",
   "language": "python",
   "name": "python3"
  },
  "language_info": {
   "codemirror_mode": {
    "name": "ipython",
    "version": 3
   },
   "file_extension": ".py",
   "mimetype": "text/x-python",
   "name": "python",
   "nbconvert_exporter": "python",
   "pygments_lexer": "ipython3",
   "version": "3.5.4"
  }
 },
 "nbformat": 4,
 "nbformat_minor": 2
}
