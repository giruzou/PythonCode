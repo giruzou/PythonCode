{
 "cells": [
  {
   "cell_type": "markdown",
   "metadata": {},
   "source": [
    "# Polynomial Exercise"
   ]
  },
  {
   "cell_type": "code",
   "execution_count": 38,
   "metadata": {
    "collapsed": false
   },
   "outputs": [],
   "source": [
    "from numpy import polynomial as P\n",
    "from scipy import interpolate\n",
    "import numpy as np\n",
    "from scipy import linalg as sla\n",
    "from matplotlib import pyplot as plt\n",
    "%matplotlib inline"
   ]
  },
  {
   "cell_type": "code",
   "execution_count": 39,
   "metadata": {
    "collapsed": false
   },
   "outputs": [
    {
     "data": {
      "text/plain": [
       "Polynomial([ 2., -3.,  1.], [-1,  1], [-1,  1])"
      ]
     },
     "execution_count": 39,
     "metadata": {},
     "output_type": "execute_result"
    }
   ],
   "source": [
    "p=P.Polynomial([2,-3,1])\n",
    "p"
   ]
  },
  {
   "cell_type": "code",
   "execution_count": 40,
   "metadata": {
    "collapsed": false
   },
   "outputs": [
    {
     "name": "stdout",
     "output_type": "stream",
     "text": [
      "[ 2. -3.  1.]\n",
      "[-1  1]\n",
      "[-1  1]\n",
      "[ 1.  2.]\n"
     ]
    }
   ],
   "source": [
    "print(p.coef)\n",
    "print(p.domain)\n",
    "print(p.window)\n",
    "print(p.roots()) # solution x of p(x)=0"
   ]
  },
  {
   "cell_type": "code",
   "execution_count": 41,
   "metadata": {
    "collapsed": false
   },
   "outputs": [
    {
     "name": "stderr",
     "output_type": "stream",
     "text": [
      "/Users/terasakisatoshi/.pyenv/versions/3.5.1/lib/python3.5/site-packages/numpy/polynomial/_polybase.py:292: VisibleDeprecationWarning: using a non-integer number instead of an integer will result in an error in the future\n",
      "  arg = off + scl*arg\n"
     ]
    },
    {
     "data": {
      "text/plain": [
       "array([ 2.  ,  0.  , -0.25])"
      ]
     },
     "execution_count": 41,
     "metadata": {},
     "output_type": "execute_result"
    }
   ],
   "source": [
    "#evaluate\n",
    "p([0.0,1.0,1.5])"
   ]
  },
  {
   "cell_type": "code",
   "execution_count": 42,
   "metadata": {
    "collapsed": false
   },
   "outputs": [
    {
     "data": {
      "text/plain": [
       "Chebyshev([ 2.5, -3. ,  0.5], [-1,  1], [-1,  1])"
      ]
     },
     "execution_count": 42,
     "metadata": {},
     "output_type": "execute_result"
    }
   ],
   "source": [
    "# 2.5* T_0 + -3 T_1 + 0.5 T_2\n",
    "ch=P.Chebyshev([2.5,-3.,0.5])\n",
    "ch"
   ]
  },
  {
   "cell_type": "code",
   "execution_count": 43,
   "metadata": {
    "collapsed": false
   },
   "outputs": [
    {
     "data": {
      "text/plain": [
       "Polynomial([ 2., -3.,  1.], [-1.,  1.], [-1.,  1.])"
      ]
     },
     "execution_count": 43,
     "metadata": {},
     "output_type": "execute_result"
    }
   ],
   "source": [
    "p=P.Polynomial.fromroots([1,2])\n",
    "p"
   ]
  },
  {
   "cell_type": "code",
   "execution_count": 44,
   "metadata": {
    "collapsed": false
   },
   "outputs": [
    {
     "data": {
      "text/plain": [
       "Chebyshev([ 2.5, -3. ,  0.5], [-1.,  1.], [-1.,  1.])"
      ]
     },
     "execution_count": 44,
     "metadata": {},
     "output_type": "execute_result"
    }
   ],
   "source": [
    "ch_fromroots=P.Chebyshev([2.5,-3,0.5],[-1,1],[-1,1])\n",
    "ch_fromroots"
   ]
  },
  {
   "cell_type": "code",
   "execution_count": 45,
   "metadata": {
    "collapsed": false
   },
   "outputs": [
    {
     "data": {
      "text/plain": [
       "array([ 1.,  2.])"
      ]
     },
     "execution_count": 45,
     "metadata": {},
     "output_type": "execute_result"
    }
   ],
   "source": [
    "ch_fromroots.roots()"
   ]
  },
  {
   "cell_type": "code",
   "execution_count": 46,
   "metadata": {
    "collapsed": false
   },
   "outputs": [
    {
     "name": "stderr",
     "output_type": "stream",
     "text": [
      "/Users/terasakisatoshi/.pyenv/versions/3.5.1/lib/python3.5/site-packages/numpy/polynomial/_polybase.py:292: VisibleDeprecationWarning: using a non-integer number instead of an integer will result in an error in the future\n",
      "  arg = off + scl*arg\n"
     ]
    },
    {
     "data": {
      "text/plain": [
       "array([ 2.  ,  0.  , -0.25])"
      ]
     },
     "execution_count": 46,
     "metadata": {},
     "output_type": "execute_result"
    }
   ],
   "source": [
    "ch_fromroots([0,1,1.5])"
   ]
  },
  {
   "cell_type": "markdown",
   "metadata": {
    "collapsed": true
   },
   "source": [
    "# fitting function"
   ]
  },
  {
   "cell_type": "code",
   "execution_count": 47,
   "metadata": {
    "collapsed": false
   },
   "outputs": [
    {
     "data": {
      "text/plain": [
       "Polynomial([ 1.15 ,  2.175,  1.35 , -0.675], [ 1.,  4.], [-1.,  1.])"
      ]
     },
     "execution_count": 47,
     "metadata": {},
     "output_type": "execute_result"
    }
   ],
   "source": [
    "x=np.array([1,1.5,3,4])\n",
    "y=np.array([1,0.5,2,4])\n",
    "deg=len(x)-1\n",
    "p=P.Polynomial.fit(x,y,deg)\n",
    "p"
   ]
  },
  {
   "cell_type": "code",
   "execution_count": 59,
   "metadata": {
    "collapsed": false
   },
   "outputs": [
    {
     "data": {
      "text/plain": [
       "Polynomial([ 4.4, -5.3,  2.1, -0.2], [-1.,  1.], [-1.,  1.])"
      ]
     },
     "execution_count": 59,
     "metadata": {},
     "output_type": "execute_result"
    }
   ],
   "source": [
    "p.convert([-1,1])"
   ]
  },
  {
   "cell_type": "code",
   "execution_count": 53,
   "metadata": {
    "collapsed": false
   },
   "outputs": [
    {
     "data": {
      "image/png": "[encoded data removed]",
      "text/plain": [
       "<matplotlib.figure.Figure at 0x10d14d470>"
      ]
     },
     "metadata": {},
     "output_type": "display_data"
    }
   ],
   "source": [
    "xs=np.linspace(x.min(),x.max(),100)\n",
    "fig,ax=plt.subplots()\n",
    "ax.plot(xs,p(xs),'b',lw=2,label='pow poly basis')\n",
    "ax.plot(x,y,'o',label='Data pt')\n",
    "ax.set_ylabel(r'$y$',fontsize=16)\n",
    "ax.set_xlabel(r'$x$',fontsize=16)\n",
    "ax.legend()\n",
    "plt.show()"
   ]
  },
  {
   "cell_type": "code",
   "execution_count": 57,
   "metadata": {
    "collapsed": false
   },
   "outputs": [
    {
     "name": "stdout",
     "output_type": "stream",
     "text": [
      "[ 4.4 -5.3  2.1 -0.2]\n"
     ]
    },
    {
     "data": {
      "text/plain": [
       "Polynomial([ 4.4, -5.3,  2.1, -0.2], [-1,  1], [-1,  1])"
      ]
     },
     "execution_count": 57,
     "metadata": {},
     "output_type": "execute_result"
    }
   ],
   "source": [
    "A=P.polynomial.polyvander(x,deg)\n",
    "c=sla.solve(A,y)\n",
    "print(c)\n",
    "P.Polynomial(c)"
   ]
  },
  {
   "cell_type": "code",
   "execution_count": 61,
   "metadata": {
    "collapsed": false
   },
   "outputs": [
    {
     "name": "stdout",
     "output_type": "stream",
     "text": [
      "[[   1.     1.     1.     1. ]\n",
      " [   1.     1.5    3.5    9. ]\n",
      " [   1.     3.    17.    99. ]\n",
      " [   1.     4.    31.   244. ]]\n"
     ]
    },
    {
     "data": {
      "text/plain": [
       "4864.6335977699446"
      ]
     },
     "execution_count": 61,
     "metadata": {},
     "output_type": "execute_result"
    }
   ],
   "source": [
    "print(P.chebyshev.chebvander(x,deg))\n",
    "np.linalg.cond(P.chebyshev.chebvander(x,deg))"
   ]
  },
  {
   "cell_type": "code",
   "execution_count": 65,
   "metadata": {
    "collapsed": false
   },
   "outputs": [
    {
     "data": {
      "image/png": "[encoded data removed]",
      "text/plain": [
       "<matplotlib.figure.Figure at 0x10e3a4cc0>"
      ]
     },
     "metadata": {},
     "output_type": "display_data"
    }
   ],
   "source": [
    "def runge(x):\n",
    "    return 1/(25 * x **2 + 1)\n",
    "x=np.linspace(-1,1,11)\n",
    "f_i=interpolate.interp1d(x,runge(x),kind=3)\n",
    "xs=np.linspace(-1,1,300)\n",
    "fig,ax=plt.subplots()\n",
    "ax.plot(xs,runge(xs),'k--',label='runge func')\n",
    "ax.plot(x,runge(x),'o',label='data pt')\n",
    "ax.plot(xs,f_i(xs),'b',label='tri-spline')\n",
    "ax.legend()\n",
    "ax.set_xlabel(r'$x$',fontsize=16)\n",
    "ax.set_ylabel(r'$y$',fontsize=16)\n",
    "plt.show()"
   ]
  },
  {
   "cell_type": "code",
   "execution_count": 66,
   "metadata": {
    "collapsed": false
   },
   "outputs": [
    {
     "data": {
      "image/png": "[encoded data removed]",
      "text/plain": [
       "<matplotlib.figure.Figure at 0x10e2e65c0>"
      ]
     },
     "metadata": {},
     "output_type": "display_data"
    }
   ],
   "source": [
    "fig,ax=plt.subplots()\n",
    "ax.plot(xs,runge(xs),'k--',label='runge')\n",
    "ax.plot(x,runge(x),'o',label='data pt')\n",
    "order=[2,3,4,5]\n",
    "color=['r','b','y','g']\n",
    "for i ,n in enumerate(order):\n",
    "    f=interpolate.interp1d(x,runge(x),kind=n)\n",
    "    ax.plot(xs,f(xs),c=color[i],label='%d -deg'%n)\n",
    "ax.legend()\n",
    "ax.set_xlabel(r'$x$',fontsize=16)\n",
    "ax.set_ylabel(r'$y$',fontsize=16)\n",
    "plt.show()"
   ]
  },
  {
   "cell_type": "code",
   "execution_count": null,
   "metadata": {
    "collapsed": true
   },
   "outputs": [],
   "source": []
  }
 ],
 "metadata": {
  "kernelspec": {
   "display_name": "Python 3",
   "language": "python",
   "name": "python3"
  },
  "language_info": {
   "codemirror_mode": {
    "name": "ipython",
    "version": 3
   },
   "file_extension": ".py",
   "mimetype": "text/x-python",
   "name": "python",
   "nbconvert_exporter": "python",
   "pygments_lexer": "ipython3",
   "version": "3.5.1"
  }
 },
 "nbformat": 4,
 "nbformat_minor": 0
}
