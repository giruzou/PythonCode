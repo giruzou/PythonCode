{
 "cells": [
  {
   "cell_type": "markdown",
   "metadata": {
    "collapsed": true
   },
   "source": [
    "# generate multi-symbol using sympy "
   ]
  },
  {
   "cell_type": "code",
   "execution_count": 1,
   "metadata": {
    "collapsed": true
   },
   "outputs": [],
   "source": [
    "import numpy as np\n",
    "import sympy as sy\n",
    "sy.init_printing()"
   ]
  },
  {
   "cell_type": "code",
   "execution_count": 2,
   "metadata": {
    "collapsed": false
   },
   "outputs": [],
   "source": [
    "n=3\n",
    "\n",
    "symbol=np.array(sy.symbols('x1(1:{})'.format(n)))"
   ]
  },
  {
   "cell_type": "code",
   "execution_count": 3,
   "metadata": {
    "collapsed": false
   },
   "outputs": [
    {
     "data": {
      "text/plain": [
       "array([x11, x12], dtype=object)"
      ]
     },
     "execution_count": 3,
     "metadata": {},
     "output_type": "execute_result"
    }
   ],
   "source": [
    "symbol"
   ]
  },
  {
   "cell_type": "code",
   "execution_count": 4,
   "metadata": {
    "collapsed": false
   },
   "outputs": [
    {
     "data": {
      "image/png": "[encoded data removed]",
      "text/latex": [
       "$$x_{11}$$"
      ],
      "text/plain": [
       "x₁₁"
      ]
     },
     "execution_count": 4,
     "metadata": {},
     "output_type": "execute_result"
    }
   ],
   "source": [
    "symbol[0]"
   ]
  },
  {
   "cell_type": "code",
   "execution_count": 5,
   "metadata": {
    "collapsed": false
   },
   "outputs": [],
   "source": [
    "row,col=2,2\n",
    "kwds=['x{}(0:{})'.format(i,col) for i in range(row) ]\n",
    "symbols=np.array([sy.symbols(kwd) for kwd in kwds]).reshape(row,col)\n",
    "symbols=sy.Matrix(symbols)"
   ]
  },
  {
   "cell_type": "code",
   "execution_count": 6,
   "metadata": {
    "collapsed": false
   },
   "outputs": [
    {
     "data": {
      "image/png": "[encoded data removed]",
      "text/latex": [
       "$$\\left[\\begin{matrix}\\frac{1}{x_{00}} + \\frac{x_{01} x_{10}}{x_{00}^{2} \\left(x_{11} - \\frac{x_{01} x_{10}}{x_{00}}\\right)} & - \\frac{x_{01}}{x_{00} \\left(x_{11} - \\frac{x_{01} x_{10}}{x_{00}}\\right)}\\\\- \\frac{x_{10}}{x_{00} \\left(x_{11} - \\frac{x_{01} x_{10}}{x_{00}}\\right)} & \\frac{1}{x_{11} - \\frac{x_{01} x_{10}}{x_{00}}}\\end{matrix}\\right]$$"
      ],
      "text/plain": [
       "⎡ 1          x₀₁⋅x₁₀                -x₀₁        ⎤\n",
       "⎢─── + ────────────────────  ───────────────────⎥\n",
       "⎢x₀₀      2 ⎛      x₀₁⋅x₁₀⎞      ⎛      x₀₁⋅x₁₀⎞⎥\n",
       "⎢      x₀₀ ⋅⎜x₁₁ - ───────⎟  x₀₀⋅⎜x₁₁ - ───────⎟⎥\n",
       "⎢           ⎝        x₀₀  ⎠      ⎝        x₀₀  ⎠⎥\n",
       "⎢                                               ⎥\n",
       "⎢          -x₁₀                       1         ⎥\n",
       "⎢   ───────────────────         ─────────────   ⎥\n",
       "⎢       ⎛      x₀₁⋅x₁₀⎞               x₀₁⋅x₁₀   ⎥\n",
       "⎢   x₀₀⋅⎜x₁₁ - ───────⎟         x₁₁ - ───────   ⎥\n",
       "⎣       ⎝        x₀₀  ⎠                 x₀₀     ⎦"
      ]
     },
     "execution_count": 6,
     "metadata": {},
     "output_type": "execute_result"
    }
   ],
   "source": [
    "symbols.inv()"
   ]
  },
  {
   "cell_type": "code",
   "execution_count": 7,
   "metadata": {
    "collapsed": false
   },
   "outputs": [],
   "source": [
    "inv_symbols=sy.Matrix(np.array([eq.factor() for eq in symbols.inv()]).reshape(row,col))"
   ]
  },
  {
   "cell_type": "code",
   "execution_count": 8,
   "metadata": {
    "collapsed": false
   },
   "outputs": [
    {
     "data": {
      "image/png": "[encoded data removed]",
      "text/latex": [
       "$$\\left[\\begin{matrix}\\frac{x_{11}}{x_{00} x_{11} - x_{01} x_{10}} & - \\frac{x_{01}}{x_{00} x_{11} - x_{01} x_{10}}\\\\- \\frac{x_{10}}{x_{00} x_{11} - x_{01} x_{10}} & \\frac{x_{00}}{x_{00} x_{11} - x_{01} x_{10}}\\end{matrix}\\right]$$"
      ],
      "text/plain": [
       "⎡       x₁₁               -x₀₁       ⎤\n",
       "⎢─────────────────  ─────────────────⎥\n",
       "⎢x₀₀⋅x₁₁ - x₀₁⋅x₁₀  x₀₀⋅x₁₁ - x₀₁⋅x₁₀⎥\n",
       "⎢                                    ⎥\n",
       "⎢      -x₁₀                x₀₀       ⎥\n",
       "⎢─────────────────  ─────────────────⎥\n",
       "⎣x₀₀⋅x₁₁ - x₀₁⋅x₁₀  x₀₀⋅x₁₁ - x₀₁⋅x₁₀⎦"
      ]
     },
     "execution_count": 8,
     "metadata": {},
     "output_type": "execute_result"
    }
   ],
   "source": [
    "inv_symbols"
   ]
  },
  {
   "cell_type": "code",
   "execution_count": null,
   "metadata": {
    "collapsed": true
   },
   "outputs": [],
   "source": []
  }
 ],
 "metadata": {
  "kernelspec": {
   "display_name": "Python 3",
   "language": "python",
   "name": "python3"
  },
  "language_info": {
   "codemirror_mode": {
    "name": "ipython",
    "version": 3
   },
   "file_extension": ".py",
   "mimetype": "text/x-python",
   "name": "python",
   "nbconvert_exporter": "python",
   "pygments_lexer": "ipython3",
   "version": "3.5.1"
  }
 },
 "nbformat": 4,
 "nbformat_minor": 0
}
