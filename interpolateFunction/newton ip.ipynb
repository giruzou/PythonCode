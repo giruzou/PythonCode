{
 "cells": [
  {
   "cell_type": "markdown",
   "metadata": {},
   "source": [
    "# newton ip"
   ]
  },
  {
   "cell_type": "code",
   "execution_count": 45,
   "metadata": {
    "collapsed": true
   },
   "outputs": [],
   "source": [
    "import numpy as np\n",
    "import sympy as sy\n",
    "sy.init_printing()\n",
    "from matplotlib import pyplot as plt\n",
    "%matplotlib inline"
   ]
  },
  {
   "cell_type": "code",
   "execution_count": 46,
   "metadata": {
    "collapsed": false
   },
   "outputs": [],
   "source": [
    "xs=[0.0,0.2,0.4,0.6,0.8,1.2,1.4,1.6,1.8,2.0]\n",
    "ys=[2.0,2.1,1.6,2.6,1.5,2.7,0.67,3.5,0.94,2.0]\n",
    "size=len(xs)"
   ]
  },
  {
   "cell_type": "code",
   "execution_count": 47,
   "metadata": {
    "collapsed": false
   },
   "outputs": [
    {
     "data": {
      "image/png": "[encoded data removed]",
      "text/latex": [
       "$$\\left [ 1, \\quad x, \\quad x \\left(x - 0.2\\right), \\quad x \\left(x - 0.4\\right) \\left(x - 0.2\\right), \\quad x \\left(x - 0.6\\right) \\left(x - 0.4\\right) \\left(x - 0.2\\right), \\quad x \\left(x - 0.8\\right) \\left(x - 0.6\\right) \\left(x - 0.4\\right) \\left(x - 0.2\\right), \\quad x \\left(x - 1.2\\right) \\left(x - 0.8\\right) \\left(x - 0.6\\right) \\left(x - 0.4\\right) \\left(x - 0.2\\right), \\quad x \\left(x - 1.4\\right) \\left(x - 1.2\\right) \\left(x - 0.8\\right) \\left(x - 0.6\\right) \\left(x - 0.4\\right) \\left(x - 0.2\\right), \\quad x \\left(x - 1.6\\right) \\left(x - 1.4\\right) \\left(x - 1.2\\right) \\left(x - 0.8\\right) \\left(x - 0.6\\right) \\left(x - 0.4\\right) \\left(x - 0.2\\right), \\quad x \\left(x - 1.8\\right) \\left(x - 1.6\\right) \\left(x - 1.4\\right) \\left(x - 1.2\\right) \\left(x - 0.8\\right) \\left(x - 0.6\\right) \\left(x - 0.4\\right) \\left(x - 0.2\\right)\\right ]$$"
      ],
      "text/plain": [
       "[1, x, x⋅(x - 0.2), x⋅(x - 0.4)⋅(x - 0.2), x⋅(x - 0.6)⋅(x - 0.4)⋅(x - 0.2), x⋅\n",
       "(x - 0.8)⋅(x - 0.6)⋅(x - 0.4)⋅(x - 0.2), x⋅(x - 1.2)⋅(x - 0.8)⋅(x - 0.6)⋅(x - \n",
       "0.4)⋅(x - 0.2), x⋅(x - 1.4)⋅(x - 1.2)⋅(x - 0.8)⋅(x - 0.6)⋅(x - 0.4)⋅(x - 0.2),\n",
       " x⋅(x - 1.6)⋅(x - 1.4)⋅(x - 1.2)⋅(x - 0.8)⋅(x - 0.6)⋅(x - 0.4)⋅(x - 0.2), x⋅(x\n",
       " - 1.8)⋅(x - 1.6)⋅(x - 1.4)⋅(x - 1.2)⋅(x - 0.8)⋅(x - 0.6)⋅(x - 0.4)⋅(x - 0.2)]"
      ]
     },
     "execution_count": 47,
     "metadata": {},
     "output_type": "execute_result"
    }
   ],
   "source": [
    "x=sy.symbols('x')\n",
    "prod_polys=[sy.prod([x-xs[i] for i in range(k)] ) for k in range(size)]\n",
    "prod_polys"
   ]
  },
  {
   "cell_type": "code",
   "execution_count": 54,
   "metadata": {
    "collapsed": false
   },
   "outputs": [
    {
     "data": {
      "text/plain": [
       "array([[  2.        ,   3.5101219 ,   4.26801633,   4.49987487,\n",
       "          4.38363044,   4.05651471,   3.62175494,   3.15447872,\n",
       "          2.70689101,   2.31278516],\n",
       "       [  2.1       ,   1.75099979,   1.59126426,   1.50614551,\n",
       "          1.48563025,   1.51741523,   1.5882149 ,   1.68478515,\n",
       "          1.79469838,   1.90690283],\n",
       "       [  1.6       ,   2.10294297,   2.17415758,   2.22248287,\n",
       "          2.24657953,   2.24684946,   2.22520944,   2.18483082,\n",
       "          2.12985927,   2.06512661],\n",
       "       [  2.6       ,   1.92743443,   1.86506545,   1.8136324 ,\n",
       "          1.77745285,   1.76012246,   1.76438566,   1.79204398,\n",
       "          1.84390237,   1.91975297],\n",
       "       [  1.5       ,   2.13768899,   2.27464158,   2.4255193 ,\n",
       "          2.58598565,   2.75125835,   2.91628175,   3.07590947,\n",
       "          3.22509233,   3.35906622],\n",
       "       [  2.7       ,   3.56484131,   3.63012625,   3.66746287,\n",
       "          3.67596916,   3.65589031,   3.60864831,   3.53685564,\n",
       "          3.44429022,   3.33582991],\n",
       "       [  0.67      ,   3.09554987,   2.97781049,   2.87191572,\n",
       "          2.78580892,   2.72728737,   2.70367351,   2.7214645 ,\n",
       "          2.78596808,   2.90093391],\n",
       "       [  3.5       ,   3.28730685,   3.55527305,   3.86624933,\n",
       "          4.21136811,   4.57862901,   4.95290208,   5.31606432,\n",
       "          5.64729577,   5.92356373],\n",
       "       [  0.94      ,   6.21248689,   6.1756407 ,   5.9876432 ,\n",
       "          5.63055027,   5.09296877,   4.37286618,   3.48088856,\n",
       "          2.44423972,   1.31117724],\n",
       "       [  2.        ,  -0.91412014,  -1.75426842,  -2.17235788,\n",
       "         -1.92152043,  -0.69037119,   1.90764317,   6.34607968,\n",
       "         13.19860492,  23.15346258]])"
      ]
     },
     "execution_count": 54,
     "metadata": {},
     "output_type": "execute_result"
    }
   ],
   "source": [
    "a=np.empty((size,size))\n",
    "for i,y in enumerate(ys):\n",
    "    a[i][0]=y\n",
    "a"
   ]
  },
  {
   "cell_type": "code",
   "execution_count": 59,
   "metadata": {
    "collapsed": false
   },
   "outputs": [
    {
     "name": "stdout",
     "output_type": "stream",
     "text": [
      "[[  2.00000000e+00   5.00000000e-01  -7.50000000e+00   4.37500000e+01\n",
      "   -1.48437500e+02   2.28298611e+02  -2.94704861e+02   3.57259115e+02\n",
      "   -4.41240045e+02   5.47970834e+02]\n",
      " [  2.10000000e+00  -2.50000000e+00   1.87500000e+01  -7.50000000e+01\n",
      "    1.25520833e+02  -1.84288194e+02   2.76909722e+02  -4.36972966e+02\n",
      "    6.54701623e+02   1.90690283e+00]\n",
      " [  1.60000000e+00   5.00000000e+00  -2.62500000e+01   5.05208333e+01\n",
      "   -9.56250000e+01   2.03385417e+02  -4.22247024e+02   7.41489955e+02\n",
      "    2.12985927e+00   2.06512661e+00]\n",
      " [  2.60000000e+00  -5.50000000e+00   1.41666667e+01  -4.51041667e+01\n",
      "    1.48437500e+02  -3.87760417e+02   7.64136905e+02   1.79204398e+00\n",
      "    1.84390237e+00   1.91975297e+00]\n",
      " [  1.50000000e+00   3.00000000e+00  -2.19166667e+01   1.03333333e+02\n",
      "   -3.16875000e+02   6.82031250e+02   2.91628175e+00   3.07590947e+00\n",
      "    3.22509233e+00   3.35906622e+00]\n",
      " [  2.70000000e+00  -1.01500000e+01   6.07500000e+01  -2.13541667e+02\n",
      "    5.01562500e+02   3.65589031e+00   3.60864831e+00   3.53685564e+00\n",
      "    3.44429022e+00   3.33582991e+00]\n",
      " [  6.70000000e-01   1.41500000e+01  -6.73750000e+01   1.87708333e+02\n",
      "    2.78580892e+00   2.72728737e+00   2.70367351e+00   2.72146450e+00\n",
      "    2.78596808e+00   2.90093391e+00]\n",
      " [  3.50000000e+00  -1.28000000e+01   4.52500000e+01   3.86624933e+00\n",
      "    4.21136811e+00   4.57862901e+00   4.95290208e+00   5.31606432e+00\n",
      "    5.64729577e+00   5.92356373e+00]\n",
      " [  9.40000000e-01   5.30000000e+00   6.17564070e+00   5.98764320e+00\n",
      "    5.63055027e+00   5.09296877e+00   4.37286618e+00   3.48088856e+00\n",
      "    2.44423972e+00   1.31117724e+00]\n",
      " [  2.00000000e+00  -9.14120135e-01  -1.75426842e+00  -2.17235788e+00\n",
      "   -1.92152043e+00  -6.90371192e-01   1.90764317e+00   6.34607968e+00\n",
      "    1.31986049e+01   2.31534626e+01]]\n"
     ]
    }
   ],
   "source": [
    "row,col=size,size\n",
    "for j in range(1,col):\n",
    "    for i in range(row-j):\n",
    "        a[i][j]=(a[i+1][j-1]-a[i][j-1])/(xs[i+j]-xs[i])\n",
    "print(a)\n"
   ]
  },
  {
   "cell_type": "code",
   "execution_count": 60,
   "metadata": {
    "collapsed": false
   },
   "outputs": [
    {
     "data": {
      "text/plain": [
       "array([  2.00000000e+00,   5.00000000e-01,  -7.50000000e+00,\n",
       "         4.37500000e+01,  -1.48437500e+02,   2.28298611e+02,\n",
       "        -2.94704861e+02,   3.57259115e+02,  -4.41240045e+02,\n",
       "         5.47970834e+02])"
      ]
     },
     "execution_count": 60,
     "metadata": {},
     "output_type": "execute_result"
    }
   ],
   "source": [
    "diff_array=a[0]\n",
    "diff_array"
   ]
  },
  {
   "cell_type": "code",
   "execution_count": 61,
   "metadata": {
    "collapsed": false
   },
   "outputs": [
    {
     "data": {
      "image/png": "[encoded data removed]",
      "text/latex": [
       "$$547.970834022266 x \\left(x - 1.8\\right) \\left(x - 1.6\\right) \\left(x - 1.4\\right) \\left(x - 1.2\\right) \\left(x - 0.8\\right) \\left(x - 0.6\\right) \\left(x - 0.4\\right) \\left(x - 0.2\\right) - 441.24004491843 x \\left(x - 1.6\\right) \\left(x - 1.4\\right) \\left(x - 1.2\\right) \\left(x - 0.8\\right) \\left(x - 0.6\\right) \\left(x - 0.4\\right) \\left(x - 0.2\\right) + 357.259114583333 x \\left(x - 1.4\\right) \\left(x - 1.2\\right) \\left(x - 0.8\\right) \\left(x - 0.6\\right) \\left(x - 0.4\\right) \\left(x - 0.2\\right) - 294.704861111111 x \\left(x - 1.2\\right) \\left(x - 0.8\\right) \\left(x - 0.6\\right) \\left(x - 0.4\\right) \\left(x - 0.2\\right) + 228.298611111111 x \\left(x - 0.8\\right) \\left(x - 0.6\\right) \\left(x - 0.4\\right) \\left(x - 0.2\\right) - 148.4375 x \\left(x - 0.6\\right) \\left(x - 0.4\\right) \\left(x - 0.2\\right) + 43.75 x \\left(x - 0.4\\right) \\left(x - 0.2\\right) - 7.5 x \\left(x - 0.2\\right) + 0.5 x + 2.0$$"
      ],
      "text/plain": [
       "547.970834022266⋅x⋅(x - 1.8)⋅(x - 1.6)⋅(x - 1.4)⋅(x - 1.2)⋅(x - 0.8)⋅(x - 0.6)\n",
       "⋅(x - 0.4)⋅(x - 0.2) - 441.24004491843⋅x⋅(x - 1.6)⋅(x - 1.4)⋅(x - 1.2)⋅(x - 0.\n",
       "8)⋅(x - 0.6)⋅(x - 0.4)⋅(x - 0.2) + 357.259114583333⋅x⋅(x - 1.4)⋅(x - 1.2)⋅(x -\n",
       " 0.8)⋅(x - 0.6)⋅(x - 0.4)⋅(x - 0.2) - 294.704861111111⋅x⋅(x - 1.2)⋅(x - 0.8)⋅(\n",
       "x - 0.6)⋅(x - 0.4)⋅(x - 0.2) + 228.298611111111⋅x⋅(x - 0.8)⋅(x - 0.6)⋅(x - 0.4\n",
       ")⋅(x - 0.2) - 148.4375⋅x⋅(x - 0.6)⋅(x - 0.4)⋅(x - 0.2) + 43.75⋅x⋅(x - 0.4)⋅(x \n",
       "- 0.2) - 7.5⋅x⋅(x - 0.2) + 0.5⋅x + 2.0"
      ]
     },
     "execution_count": 61,
     "metadata": {},
     "output_type": "execute_result"
    }
   ],
   "source": [
    "prod_polys\n",
    "newton_abst=np.dot(diff_array,prod_polys)\n",
    "newton_abst"
   ]
  },
  {
   "cell_type": "code",
   "execution_count": 62,
   "metadata": {
    "collapsed": true
   },
   "outputs": [],
   "source": [
    "newton_x=sy.Lambda(x,newton_abst.subs({x:x}))"
   ]
  },
  {
   "cell_type": "code",
   "execution_count": 63,
   "metadata": {
    "collapsed": false
   },
   "outputs": [
    {
     "data": {
      "text/plain": [
       "[<matplotlib.lines.Line2D at 0x1122d1cf8>]"
      ]
     },
     "execution_count": 63,
     "metadata": {},
     "output_type": "execute_result"
    },
    {
     "data": {
      "image/png": "[encoded data removed]",
      "text/plain": [
       "<matplotlib.figure.Figure at 0x11224a9b0>"
      ]
     },
     "metadata": {},
     "output_type": "display_data"
    }
   ],
   "source": [
    "fig,ax=plt.subplots()\n",
    "pltx=np.linspace(0,2.0,100)\n",
    "plty=np.vectorize(newton_x)(pltx)\n",
    "ax.plot(pltx,plty)\n",
    "ax.plot(xs,ys,'gx')"
   ]
  },
  {
   "cell_type": "markdown",
   "metadata": {},
   "source": [
    "# final code "
   ]
  },
  {
   "cell_type": "code",
   "execution_count": 1,
   "metadata": {
    "collapsed": true
   },
   "outputs": [],
   "source": [
    "import numpy as np\n",
    "import sympy as sy\n",
    "sy.init_printing()\n",
    "from matplotlib import pyplot as plt\n",
    "%matplotlib inline"
   ]
  },
  {
   "cell_type": "code",
   "execution_count": 6,
   "metadata": {
    "collapsed": false,
    "scrolled": true
   },
   "outputs": [
    {
     "data": {
      "image/png": "[encoded data removed]",
      "text/latex": [
       "$$547.970834022266 x^{9} - 4825.00671709656 x^{8} + 17778.5657448743 x^{7} - 35580.0677910053 x^{6} + 41974.0211123512 x^{5} - 29599.0239541997 x^{4} + 12029.468102403 x^{3} - 2530.55213293651 x^{2} + 205.373611111111 x + 2.0$$"
      ],
      "text/plain": [
       "                  9                     8                     7               \n",
       "547.970834022266⋅x  - 4825.00671709656⋅x  + 17778.5657448743⋅x  - 35580.067791\n",
       "\n",
       "      6                     5                     4                    3      \n",
       "0053⋅x  + 41974.0211123512⋅x  - 29599.0239541997⋅x  + 12029.468102403⋅x  - 253\n",
       "\n",
       "               2                           \n",
       "0.55213293651⋅x  + 205.373611111111⋅x + 2.0"
      ]
     },
     "execution_count": 6,
     "metadata": {},
     "output_type": "execute_result"
    }
   ],
   "source": [
    "xs=[0.0,0.2,0.4,0.6,0.8,1.2,1.4,1.6,1.8,2.0]\n",
    "ys=[2.0,2.1,1.6,2.6,1.5,2.7,0.67,3.5,0.94,2.0]\n",
    "size=len(xs)\n",
    "x=sy.symbols('x')\n",
    "prod_polys=[sy.prod([x-xs[i] for i in range(k)] ) for k in range(size)]\n",
    "a=np.empty((size,size))\n",
    "for i,y in enumerate(ys):\n",
    "    a[i][0]=y\n",
    "row,col=size,size\n",
    "# do newton ip core algorithm\n",
    "for j in range(1,col):\n",
    "    for i in range(row-j):\n",
    "        a[i][j]=(a[i+1][j-1]-a[i][j-1])/(xs[i+j]-xs[i])\n",
    "diff_array=a[0]\n",
    "prod_polys\n",
    "newton_abst=np.dot(diff_array,prod_polys)\n",
    "newton_abst.simplify()"
   ]
  },
  {
   "cell_type": "code",
   "execution_count": 4,
   "metadata": {
    "collapsed": false
   },
   "outputs": [
    {
     "data": {
      "text/plain": [
       "[<matplotlib.lines.Line2D at 0x113b1ad30>]"
      ]
     },
     "execution_count": 4,
     "metadata": {},
     "output_type": "execute_result"
    },
    {
     "data": {
      "image/png": "[encoded data removed]",
      "text/plain": [
       "<matplotlib.figure.Figure at 0x113ac96a0>"
      ]
     },
     "metadata": {},
     "output_type": "display_data"
    }
   ],
   "source": [
    "newton_x=sy.Lambda(x,newton_abst.subs({x:x}))\n",
    "fig,ax=plt.subplots()\n",
    "pltx=np.linspace(0,2.0,100)\n",
    "plty=np.vectorize(newton_x)(pltx)\n",
    "ax.plot(pltx,plty)\n",
    "ax.plot(xs,ys,'gx')"
   ]
  },
  {
   "cell_type": "code",
   "execution_count": null,
   "metadata": {
    "collapsed": true
   },
   "outputs": [],
   "source": []
  }
 ],
 "metadata": {
  "anaconda-cloud": {},
  "kernelspec": {
   "display_name": "Python [default]",
   "language": "python",
   "name": "python3"
  },
  "language_info": {
   "codemirror_mode": {
    "name": "ipython",
    "version": 3
   },
   "file_extension": ".py",
   "mimetype": "text/x-python",
   "name": "python",
   "nbconvert_exporter": "python",
   "pygments_lexer": "ipython3",
   "version": "3.5.2"
  }
 },
 "nbformat": 4,
 "nbformat_minor": 0
}
