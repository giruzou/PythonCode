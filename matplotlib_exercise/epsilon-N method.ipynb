{
 "cells": [
  {
   "cell_type": "code",
   "execution_count": 1,
   "metadata": {},
   "outputs": [],
   "source": [
    "import numpy as np\n",
    "from matplotlib import pyplot as plt \n",
    "%matplotlib notebook\n",
    "from __future__ import print_function\n",
    "from ipywidgets import interact, interactive, fixed, interact_manual\n",
    "import ipywidgets as widgets\n",
    "from IPython.display import display"
   ]
  },
  {
   "cell_type": "code",
   "execution_count": 2,
   "metadata": {
    "collapsed": true
   },
   "outputs": [],
   "source": [
    "#parameter of test function\n",
    "COEFF=0.05"
   ]
  },
  {
   "cell_type": "code",
   "execution_count": 3,
   "metadata": {
    "collapsed": true
   },
   "outputs": [],
   "source": [
    "#plot functions\n",
    "def function(x):\n",
    "    return np.sin(x) * np.exp(-COEFF*x)\n",
    "\n",
    "def upper(x):\n",
    "    return np.exp(-COEFF*x)\n",
    "\n",
    "def lower(x):\n",
    "    return -np.exp(-COEFF*x)\n"
   ]
  },
  {
   "cell_type": "code",
   "execution_count": 4,
   "metadata": {
    "collapsed": true
   },
   "outputs": [],
   "source": [
    "def showgraph(EPSILON):\n",
    "    xmax=100\n",
    "    xs=np.linspace(0,xmax,1000)\n",
    "    ys=function(xs)\n",
    "\n",
    "    ns=[n for n in range(xmax)]\n",
    "    seq=[function(n) for n in ns]\n",
    "\n",
    "    fig,ax=plt.subplots()\n",
    "    ax.set_title(r\"An Introduction to $\\epsilon$-$N$ method\")\n",
    "    ax.set_xlabel(\"n\")\n",
    "    ax.plot(xs,function(xs),'--',markersize=2)\n",
    "    ax.plot(ns,seq,'bo',label=r'$a_n=\\sin(n) \\exp(-{}n)$'.format(COEFF),markersize=3)\n",
    "\n",
    "    ax.annotate(r'$\\exp(-{}x)$'.format(COEFF),xy=(20,upper(20)),xycoords='data',\n",
    "                    arrowprops=dict(arrowstyle=\"->\"),\n",
    "                    xytext=(+10,+30),textcoords='offset points')\n",
    "    \n",
    "    ax.plot(xs,upper(xs),'--')\n",
    "    ax.annotate(r'$\\exp(-{}x)$'.format(COEFF),xy=(20,upper(20)),xycoords='data',\n",
    "                    arrowprops=dict(arrowstyle=\"->\"),\n",
    "                    xytext=(+10,+30),textcoords='offset points')\n",
    "\n",
    "    ax.plot(xs,lower(xs),'--')\n",
    "    ax.annotate(r'$-\\exp(-{}x)$'.format(COEFF),xy=(20,lower(20)),xycoords='data',\n",
    "                    arrowprops=dict(arrowstyle=\"->\"),\n",
    "                    xytext=(+10,-30),textcoords='offset points')\n",
    "\n",
    "    N=np.log(EPSILON)/-COEFF\n",
    "\n",
    "    ax.plot([N,xmax],[EPSILON,EPSILON],linewidth=0.25,linestyle=\"--\",color='r')\n",
    "    ax.annotate(r'$\\epsilon=$ %f'% EPSILON ,xy=((N+100)/2.0,EPSILON),xycoords='data',\n",
    "                    arrowprops=dict(arrowstyle=\"->\"),\n",
    "                    xytext=(+10,+30),fontsize=12,textcoords='offset points')\n",
    "\n",
    "    ax.plot([N,xmax],[-EPSILON,-EPSILON],linewidth=0.25,linestyle=\"--\",color='r')\n",
    "    ax.annotate(r'$\\epsilon=$ %f'% -EPSILON ,xy=((N+100)/2.0,-EPSILON),xycoords='data',\n",
    "                    arrowprops=dict(arrowstyle=\"->\"),\n",
    "                    xytext=(+10,-30),fontsize=12,textcoords='offset points')\n",
    "\n",
    "    ax.plot([N,N],[ax.get_ylim()[0],EPSILON],linewidth=0.25,linestyle=\"--\",color='r')\n",
    "    ax.annotate(r'$N$=%d'%N, xy=(N,ax.get_ylim()[0]),xycoords='data',\n",
    "                    arrowprops=dict(arrowstyle=\"->\"),\n",
    "                    xytext=(+10,+30),fontsize=20,textcoords='offset points')\n",
    "\n",
    "    ax.legend(loc='upper right')\n",
    "    \n",
    "    plt.show()"
   ]
  },
  {
   "cell_type": "code",
   "execution_count": 7,
   "metadata": {},
   "outputs": [
    {
     "data": {
      "application/vnd.jupyter.widget-view+json": {
       "model_id": "d0f4f92cc98e42b1b49a37b6d00cf13a"
      }
     },
     "metadata": {},
     "output_type": "display_data"
    },
    {
     "data": {
      "application/vnd.jupyter.widget-view+json": {
       "model_id": "1ab87d844f264252a49f489440b33a2c"
      }
     },
     "metadata": {},
     "output_type": "display_data"
    },
    {
     "data": {
      "text/plain": [
       "<function __main__.showgraph>"
      ]
     },
     "execution_count": 7,
     "metadata": {},
     "output_type": "execute_result"
    }
   ],
   "source": [
    "float_text=widgets.FloatText(min=0.000001,max=0.5,value=0.4)\n",
    "epsilon_slider=widgets.FloatSlider(min=0.000001,max=0.5,value=0.4,step=0.005)\n",
    "widgets.jslink((float_text, 'value'), (epsilon_slider, 'value'))\n",
    "display(float_text)\n",
    "interact(showgraph,EPSILON=epsilon_slider)"
   ]
  },
  {
   "cell_type": "code",
   "execution_count": null,
   "metadata": {
    "collapsed": true
   },
   "outputs": [],
   "source": []
  }
 ],
 "metadata": {
  "kernelspec": {
   "display_name": "Python 3",
   "language": "python",
   "name": "python3"
  },
  "language_info": {
   "codemirror_mode": {
    "name": "ipython",
    "version": 3
   },
   "file_extension": ".py",
   "mimetype": "text/x-python",
   "name": "python",
   "nbconvert_exporter": "python",
   "pygments_lexer": "ipython3",
   "version": "3.5.2"
  }
 },
 "nbformat": 4,
 "nbformat_minor": 2
}
