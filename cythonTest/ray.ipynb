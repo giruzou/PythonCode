{
 "cells": [
  {
   "cell_type": "code",
   "execution_count": 1,
   "metadata": {
    "collapsed": true
   },
   "outputs": [],
   "source": [
    "%load_ext Cython"
   ]
  },
  {
   "cell_type": "code",
   "execution_count": 2,
   "metadata": {
    "collapsed": true
   },
   "outputs": [],
   "source": [
    "import numpy as np\n",
    "from matplotlib import pyplot as plt\n",
    "%matplotlib inline"
   ]
  },
  {
   "cell_type": "code",
   "execution_count": 3,
   "metadata": {
    "collapsed": true
   },
   "outputs": [],
   "source": [
    "w,h=200,200 # Size of the windows in pixels."
   ]
  },
  {
   "cell_type": "code",
   "execution_count": 4,
   "metadata": {
    "collapsed": true
   },
   "outputs": [],
   "source": [
    "def normalize(x):\n",
    "    #This function normalizes a vector.\n",
    "    x/= np.linalg.norm(x)\n",
    "    return x"
   ]
  },
  {
   "cell_type": "code",
   "execution_count": 6,
   "metadata": {
    "collapsed": true
   },
   "outputs": [],
   "source": [
    "def intersect_sphere(O,D,S,R):\n",
    "    #Return the distance from O to the intersection\n",
    "    #of the ray (O,D) and the sphere (S,R), or \n",
    "    #+inf if there is no intersection.\n",
    "    #O and S are 3D points, D (direction) is a\n",
    "    #normalized vector, R is a scalar.\n",
    "    a=np.dot(D,D)\n",
    "    OS=O-S\n",
    "    b=2*np.dot(D,OS)\n",
    "    c=np.dot(OS,OS)-R*R\n",
    "    disc=b*b-4*a*c\n",
    "    if disc > 0:\n",
    "        discSqrt=np.sqrt(disc)\n",
    "        q=(-b-distSqrt)/2.0 if b < 0 else (-b+distSqrt)/2.0\n",
    "    t0 =q/a\n",
    "    t1=c/q\n",
    "    t0,t1=min(t0,t1),max(t0,t1)\n",
    "    if t1>=0:\n",
    "        return t1 if t0 <0 else t0\n",
    "    return np.inf"
   ]
  },
  {
   "cell_type": "code",
   "execution_count": 7,
   "metadata": {
    "collapsed": true
   },
   "outputs": [],
   "source": [
    "def trace_ray(rayO,rayD):\n",
    "    #Find first point of intersection with the scene\n",
    "    t=intersect_sphere(rayO,rayD,position,radius)\n",
    "    #No intersection?\n",
    "    if t==np.inf:\n",
    "        return\n",
    "    #Find the point of intsersection on the object.\n",
    "    M=rayO+rayD*t\n",
    "    N=normalize(M-position)\n",
    "    toL=normalize(L-M)\n",
    "    toO=normalize(O-M)\n",
    "    #Ambient color\n",
    "    col=ambient\n",
    "    #Diffuse color\n",
    "    col+=diffuse * max(np.dot(N,toL),0) * color\n",
    "    #Specular color\n",
    "    col+=specular_c * color_light * max(np.dot(N,nomalize(toL+toO)),0)**specluar_k\n",
    "    return col"
   ]
  },
  {
   "cell_type": "code",
   "execution_count": 15,
   "metadata": {
    "collapsed": false
   },
   "outputs": [],
   "source": [
    "def run():\n",
    "    img=np.zeros((h,w,3))\n",
    "    for i,x in enumerate(np.linspace(-1.0,1.0,w)):\n",
    "        for j,y in enumerate(np.linspace(-1.0,1.0,h)):\n",
    "            #Position of the pixel.\n",
    "            Q[0],Q[1]=x,y\n",
    "            #Direction of the ray going through the\n",
    "            #optical center\n",
    "            D=normalize(Q-O)\n",
    "            depth=0\n",
    "            rayO,rayD=O,D\n",
    "            #Launch the ray and get the\n",
    "            #color of the pixel\n",
    "            col=trace_ray(rayO,rayD)\n",
    "            if col is None:\n",
    "                continue\n",
    "            img[h-j-1,i,:]=np.clip(col,0,1)\n",
    "    return img"
   ]
  },
  {
   "cell_type": "code",
   "execution_count": 18,
   "metadata": {
    "collapsed": true
   },
   "outputs": [],
   "source": [
    "#Sphere properties.\n",
    "position = np.array([0,0,1])\n",
    "redius=1\n",
    "color=np.array([0,0,1])\n",
    "diffuse_c=1\n",
    "specular_k=50\n",
    "#Light position and color\n",
    "L=np.array([5,5,-10])\n",
    "color_light=np.ones(3)\n",
    "ambient=0.05\n",
    "#Camera\n",
    "O=np.array([0,0,1])\n",
    "Q=np.array([0,0,0])"
   ]
  },
  {
   "cell_type": "code",
   "execution_count": 19,
   "metadata": {
    "collapsed": false
   },
   "outputs": [
    {
     "ename": "TypeError",
     "evalue": "ufunc 'true_divide' output (typecode 'd') could not be coerced to provided output parameter (typecode 'l') according to the casting rule ''same_kind''",
     "output_type": "error",
     "traceback": [
      "\u001b[0;31m---------------------------------------------------------------------------\u001b[0m",
      "\u001b[0;31mTypeError\u001b[0m                                 Traceback (most recent call last)",
      "\u001b[0;32m<ipython-input-19-c0fb58c868b1>\u001b[0m in \u001b[0;36m<module>\u001b[0;34m()\u001b[0m\n\u001b[0;32m----> 1\u001b[0;31m \u001b[0mimg\u001b[0m\u001b[0;34m=\u001b[0m\u001b[0mrun\u001b[0m\u001b[0;34m(\u001b[0m\u001b[0;34m)\u001b[0m\u001b[0;34m\u001b[0m\u001b[0m\n\u001b[0m\u001b[1;32m      2\u001b[0m \u001b[0mplt\u001b[0m\u001b[0;34m.\u001b[0m\u001b[0mimshow\u001b[0m\u001b[0;34m(\u001b[0m\u001b[0mimg\u001b[0m\u001b[0;34m)\u001b[0m\u001b[0;34m\u001b[0m\u001b[0m\n\u001b[1;32m      3\u001b[0m \u001b[0mplt\u001b[0m\u001b[0;34m.\u001b[0m\u001b[0mxtick\u001b[0m\u001b[0;34m(\u001b[0m\u001b[0;34m[\u001b[0m\u001b[0;34m]\u001b[0m\u001b[0;34m)\u001b[0m\u001b[0;34m;\u001b[0m\u001b[0mplt\u001b[0m\u001b[0;34m.\u001b[0m\u001b[0myticks\u001b[0m\u001b[0;34m(\u001b[0m\u001b[0;34m[\u001b[0m\u001b[0;34m]\u001b[0m\u001b[0;34m)\u001b[0m\u001b[0;34m\u001b[0m\u001b[0m\n",
      "\u001b[0;32m<ipython-input-15-37274b23d354>\u001b[0m in \u001b[0;36mrun\u001b[0;34m()\u001b[0m\n\u001b[1;32m      7\u001b[0m             \u001b[0;31m#Direction of the ray going through the\u001b[0m\u001b[0;34m\u001b[0m\u001b[0;34m\u001b[0m\u001b[0m\n\u001b[1;32m      8\u001b[0m             \u001b[0;31m#optical center\u001b[0m\u001b[0;34m\u001b[0m\u001b[0;34m\u001b[0m\u001b[0m\n\u001b[0;32m----> 9\u001b[0;31m             \u001b[0mD\u001b[0m\u001b[0;34m=\u001b[0m\u001b[0mnormalize\u001b[0m\u001b[0;34m(\u001b[0m\u001b[0mQ\u001b[0m\u001b[0;34m-\u001b[0m\u001b[0mO\u001b[0m\u001b[0;34m)\u001b[0m\u001b[0;34m\u001b[0m\u001b[0m\n\u001b[0m\u001b[1;32m     10\u001b[0m             \u001b[0mdepth\u001b[0m\u001b[0;34m=\u001b[0m\u001b[0;36m0\u001b[0m\u001b[0;34m\u001b[0m\u001b[0m\n\u001b[1;32m     11\u001b[0m             \u001b[0mrayO\u001b[0m\u001b[0;34m,\u001b[0m\u001b[0mrayD\u001b[0m\u001b[0;34m=\u001b[0m\u001b[0mO\u001b[0m\u001b[0;34m,\u001b[0m\u001b[0mD\u001b[0m\u001b[0;34m\u001b[0m\u001b[0m\n",
      "\u001b[0;32m<ipython-input-4-e58221505eda>\u001b[0m in \u001b[0;36mnormalize\u001b[0;34m(x)\u001b[0m\n\u001b[1;32m      1\u001b[0m \u001b[0;32mdef\u001b[0m \u001b[0mnormalize\u001b[0m\u001b[0;34m(\u001b[0m\u001b[0mx\u001b[0m\u001b[0;34m)\u001b[0m\u001b[0;34m:\u001b[0m\u001b[0;34m\u001b[0m\u001b[0m\n\u001b[1;32m      2\u001b[0m     \u001b[0;31m#This function normalizes a vector.\u001b[0m\u001b[0;34m\u001b[0m\u001b[0;34m\u001b[0m\u001b[0m\n\u001b[0;32m----> 3\u001b[0;31m     \u001b[0mx\u001b[0m\u001b[0;34m/=\u001b[0m \u001b[0mnp\u001b[0m\u001b[0;34m.\u001b[0m\u001b[0mlinalg\u001b[0m\u001b[0;34m.\u001b[0m\u001b[0mnorm\u001b[0m\u001b[0;34m(\u001b[0m\u001b[0mx\u001b[0m\u001b[0;34m)\u001b[0m\u001b[0;34m\u001b[0m\u001b[0m\n\u001b[0m\u001b[1;32m      4\u001b[0m     \u001b[0;32mreturn\u001b[0m \u001b[0mx\u001b[0m\u001b[0;34m\u001b[0m\u001b[0m\n",
      "\u001b[0;31mTypeError\u001b[0m: ufunc 'true_divide' output (typecode 'd') could not be coerced to provided output parameter (typecode 'l') according to the casting rule ''same_kind''"
     ]
    }
   ],
   "source": [
    "img=run()\n",
    "plt.imshow(img)\n",
    "plt.xtick([]);plt.yticks([])"
   ]
  },
  {
   "cell_type": "code",
   "execution_count": null,
   "metadata": {
    "collapsed": true
   },
   "outputs": [],
   "source": []
  }
 ],
 "metadata": {
  "kernelspec": {
   "display_name": "Python 3",
   "language": "python",
   "name": "python3"
  },
  "language_info": {
   "codemirror_mode": {
    "name": "ipython",
    "version": 3
   },
   "file_extension": ".py",
   "mimetype": "text/x-python",
   "name": "python",
   "nbconvert_exporter": "python",
   "pygments_lexer": "ipython3",
   "version": "3.5.1"
  }
 },
 "nbformat": 4,
 "nbformat_minor": 0
}
