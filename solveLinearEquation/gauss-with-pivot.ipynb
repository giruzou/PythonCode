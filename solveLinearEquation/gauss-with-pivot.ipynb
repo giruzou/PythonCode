{
 "cells": [
  {
   "cell_type": "markdown",
   "metadata": {},
   "source": [
    "# gauss method with pivot swap"
   ]
  },
  {
   "cell_type": "code",
   "execution_count": 43,
   "metadata": {
    "collapsed": true
   },
   "outputs": [],
   "source": [
    "import numpy as np"
   ]
  },
  {
   "cell_type": "code",
   "execution_count": 44,
   "metadata": {
    "collapsed": true
   },
   "outputs": [],
   "source": [
    "a=np.matrix([[0,1,2],\n",
    "                        [1,0,3],\n",
    "                        [3,1,0]],dtype='float64')\n"
   ]
  },
  {
   "cell_type": "code",
   "execution_count": 45,
   "metadata": {
    "collapsed": false
   },
   "outputs": [
    {
     "data": {
      "text/plain": [
       "matrix([[ 2],\n",
       "        [ 2],\n",
       "        [-3]])"
      ]
     },
     "execution_count": 45,
     "metadata": {},
     "output_type": "execute_result"
    }
   ],
   "source": [
    "b=np.matrix([2,2,-3]).T\n",
    "b"
   ]
  },
  {
   "cell_type": "code",
   "execution_count": 46,
   "metadata": {
    "collapsed": false
   },
   "outputs": [
    {
     "data": {
      "text/plain": [
       "matrix([[ 0.,  1.,  2.,  2.],\n",
       "        [ 1.,  0.,  3.,  2.],\n",
       "        [ 3.,  1.,  0., -3.]])"
      ]
     },
     "execution_count": 46,
     "metadata": {},
     "output_type": "execute_result"
    }
   ],
   "source": [
    "a=np.concatenate([a,b],axis=1)\n",
    "a"
   ]
  },
  {
   "cell_type": "code",
   "execution_count": 47,
   "metadata": {
    "collapsed": false
   },
   "outputs": [
    {
     "data": {
      "text/plain": [
       "2"
      ]
     },
     "execution_count": 47,
     "metadata": {},
     "output_type": "execute_result"
    }
   ],
   "source": [
    "row=0\n",
    "maxind=np.argmax(abs(a[row:,0]))\n",
    "maxind"
   ]
  },
  {
   "cell_type": "code",
   "execution_count": 48,
   "metadata": {
    "collapsed": false
   },
   "outputs": [
    {
     "data": {
      "text/plain": [
       "matrix([[ 3.,  1.,  0., -3.],\n",
       "        [ 1.,  0.,  3.,  2.],\n",
       "        [ 0.,  1.,  2.,  2.]])"
      ]
     },
     "execution_count": 48,
     "metadata": {},
     "output_type": "execute_result"
    }
   ],
   "source": [
    "#swap \n",
    "a[[row,maxind],:]=a[[maxind,row],:]\n",
    "a"
   ]
  },
  {
   "cell_type": "markdown",
   "metadata": {},
   "source": [
    "# do gauss for row=0"
   ]
  },
  {
   "cell_type": "code",
   "execution_count": 49,
   "metadata": {
    "collapsed": false
   },
   "outputs": [
    {
     "data": {
      "text/plain": [
       "matrix([[ 3.        ,  1.        ,  0.        , -3.        ],\n",
       "        [ 0.        , -0.33333333,  3.        ,  3.        ],\n",
       "        [ 0.        ,  1.        ,  2.        ,  2.        ]])"
      ]
     },
     "execution_count": 49,
     "metadata": {},
     "output_type": "execute_result"
    }
   ],
   "source": [
    "for i in range(1,a.shape[0]):\n",
    "    p= a[i,0] /a[0,0]\n",
    "    a[i]-=p*a[0]\n",
    "a"
   ]
  },
  {
   "cell_type": "code",
   "execution_count": 52,
   "metadata": {
    "collapsed": false
   },
   "outputs": [
    {
     "data": {
      "text/plain": [
       "2"
      ]
     },
     "execution_count": 52,
     "metadata": {},
     "output_type": "execute_result"
    }
   ],
   "source": [
    "row=1\n",
    "maxind=np.argmax(abs(a[row:,1]))+row\n",
    "maxind"
   ]
  },
  {
   "cell_type": "code",
   "execution_count": 53,
   "metadata": {
    "collapsed": false
   },
   "outputs": [
    {
     "data": {
      "text/plain": [
       "matrix([[ 3.        ,  1.        ,  0.        , -3.        ],\n",
       "        [ 0.        ,  1.        ,  2.        ,  2.        ],\n",
       "        [ 0.        , -0.33333333,  3.        ,  3.        ]])"
      ]
     },
     "execution_count": 53,
     "metadata": {},
     "output_type": "execute_result"
    }
   ],
   "source": [
    "#swap \n",
    "a[[row,maxind],:]=a[[maxind,row],:]\n",
    "a"
   ]
  },
  {
   "cell_type": "code",
   "execution_count": 79,
   "metadata": {
    "collapsed": false
   },
   "outputs": [
    {
     "name": "stdout",
     "output_type": "stream",
     "text": [
      "[[ 3.          1.          0.         -3.        ]\n",
      " [ 0.          1.          2.          2.        ]\n",
      " [ 0.          0.          3.66666667  3.66666667]]\n",
      "[[-1.]\n",
      " [ 0.]\n",
      " [ 1.]]\n",
      "check that ax=b\n",
      "[[ 0.  1.  2.]\n",
      " [ 1.  0.  3.]\n",
      " [ 3.  1.  0.]]\n",
      "[[ 2.]\n",
      " [ 2.]\n",
      " [-3.]]\n",
      "[[ 0.]\n",
      " [ 0.]\n",
      " [ 0.]]\n"
     ]
    }
   ],
   "source": [
    "a=np.matrix([[0,1,2],\n",
    "                        [1,0,3],\n",
    "                        [3,1,0]],dtype='float64')\n",
    "b=np.matrix([2,2,-3],dtype='float64').T\n",
    "x=np.matrix([None,None,None],dtype='float64').T\n",
    "\n",
    "a=np.concatenate([a,b],axis=1)\n",
    "\n",
    "#push forward\n",
    "(row,col)=a.shape\n",
    "for j in range(row):\n",
    "    maxind=np.argmax(abs(a[j:,j]))+j\n",
    "    a[[j,maxind],:]=a[[maxind,j],:]\n",
    "    for i in range(j+1,row):\n",
    "        p= a[i,j] /a[j,j]\n",
    "        a[i]-=p*a[j]\n",
    "print(a)\n",
    "#back forward\n",
    "for i in range(row)[::-1]:\n",
    "    x[i]=(a[i,col-1]-np.dot(a[i,i+1:row],x[i+1:row]))/a[i,i]\n",
    "print(x)\n",
    "print(\"check that ax=b\")\n",
    "a=np.matrix([[0,1,2],\n",
    "                        [1,0,3],\n",
    "                        [3,1,0]],dtype='float64')\n",
    "b=np.matrix([2,2,-3],dtype='float64').T\n",
    "print(a)\n",
    "print(b)\n",
    "print(a @ x - b)"
   ]
  },
  {
   "cell_type": "code",
   "execution_count": 60,
   "metadata": {
    "collapsed": false
   },
   "outputs": [
    {
     "data": {
      "text/plain": [
       "3.6666666666666665"
      ]
     },
     "execution_count": 60,
     "metadata": {},
     "output_type": "execute_result"
    }
   ],
   "source": []
  },
  {
   "cell_type": "code",
   "execution_count": null,
   "metadata": {
    "collapsed": true
   },
   "outputs": [],
   "source": []
  }
 ],
 "metadata": {
  "kernelspec": {
   "display_name": "Python 3",
   "language": "python",
   "name": "python3"
  },
  "language_info": {
   "codemirror_mode": {
    "name": "ipython",
    "version": 3
   },
   "file_extension": ".py",
   "mimetype": "text/x-python",
   "name": "python",
   "nbconvert_exporter": "python",
   "pygments_lexer": "ipython3",
   "version": "3.5.1"
  }
 },
 "nbformat": 4,
 "nbformat_minor": 0
}
