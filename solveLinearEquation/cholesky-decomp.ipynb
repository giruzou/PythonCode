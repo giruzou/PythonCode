{
 "cells": [
  {
   "cell_type": "markdown",
   "metadata": {},
   "source": [
    "# try Cholesky decomposition"
   ]
  },
  {
   "cell_type": "code",
   "execution_count": 1,
   "metadata": {
    "collapsed": true
   },
   "outputs": [],
   "source": [
    "import numpy as np"
   ]
  },
  {
   "cell_type": "code",
   "execution_count": 2,
   "metadata": {
    "collapsed": false
   },
   "outputs": [],
   "source": [
    "a=np.matrix([[2,-1,0,0],\n",
    "                        [-1,3,-1,0],\n",
    "                        [0,-1,3,-1],\n",
    "                        [0,0,-1,2]],dtype='float32')\n",
    "\n",
    "b=np.matrix([4,-10,15,-11],dtype='float32').T\n",
    "x=np.array([None]*len(b),dtype='float32').T"
   ]
  },
  {
   "cell_type": "code",
   "execution_count": 3,
   "metadata": {
    "collapsed": false
   },
   "outputs": [
    {
     "data": {
      "text/plain": [
       "matrix([[ 2.        , -1.        ,  0.        ,  0.        ],\n",
       "        [-0.5       ,  2.5       , -1.        ,  0.        ],\n",
       "        [ 0.        , -0.40000001,  2.5999999 , -1.        ],\n",
       "        [ 0.        ,  0.        , -0.38461539,  1.61538458]], dtype=float32)"
      ]
     },
     "execution_count": 3,
     "metadata": {},
     "output_type": "execute_result"
    }
   ],
   "source": [
    "(row,col)=a.shape\n",
    "\n",
    "for i in range(1,row):\n",
    "    for j in range(i):\n",
    "        a[i,j]=(a[i,j]-np.sum((a[i,k]*a[k,k]*a[j,k] for k in range(j))))/a[j,j]\n",
    "    a[i,i]-=np.sum(a[i,k]*a[i,k]*a[k,k] for k in range(i))\n",
    "a"
   ]
  },
  {
   "cell_type": "code",
   "execution_count": 4,
   "metadata": {
    "collapsed": false
   },
   "outputs": [
    {
     "data": {
      "text/plain": [
       "matrix([[ 1.],\n",
       "        [-2.],\n",
       "        [ 3.],\n",
       "        [-4.]], dtype=float32)"
      ]
     },
     "execution_count": 4,
     "metadata": {},
     "output_type": "execute_result"
    }
   ],
   "source": [
    "for i in range(col):\n",
    "    b[i]=(b[i]-np.sum((a[j,j]*a[i,j]*b[j] for j in range(i))))/a[i,i]\n",
    "for i in range(col-1)[::-1]:\n",
    "    b[i]-=np.sum([ a[j,i]*b[j] for j in range(i+1,col)])\n",
    "b"
   ]
  },
  {
   "cell_type": "markdown",
   "metadata": {},
   "source": [
    "# final code"
   ]
  },
  {
   "cell_type": "code",
   "execution_count": 7,
   "metadata": {
    "collapsed": false,
    "scrolled": true
   },
   "outputs": [
    {
     "name": "stdout",
     "output_type": "stream",
     "text": [
      "sol of ax=b is \n",
      "[[ 1.]\n",
      " [-2.]\n",
      " [ 3.]\n",
      " [-4.]]\n"
     ]
    }
   ],
   "source": [
    "import numpy as np\n",
    "a=np.matrix([[2,-1,0,0],\n",
    "                        [-1,3,-1,0],\n",
    "                        [0,-1,3,-1],\n",
    "                        [0,0,-1,2]],dtype='float64')\n",
    "b=np.matrix([4,-10,15,-11],dtype='float64').T\n",
    "\n",
    "ori_a,ori_b=a.copy(),b.copy()\n",
    "(row,col)=a.shape\n",
    "for i in range(1,row):\n",
    "    for j in range(i):\n",
    "        a[i,j]=(a[i,j]-np.sum((a[i,k]*a[k,k]*a[j,k] for k in range(j))))/a[j,j]\n",
    "    a[i,i]-=np.sum(a[i,k]*a[i,k]*a[k,k] for k in range(i))\n",
    "for i in range(col):\n",
    "    b[i]=(b[i]-np.sum((a[j,j]*a[i,j]*b[j] for j in range(i))))/a[i,i]\n",
    "for i in range(col-1)[::-1]:\n",
    "    b[i]-=np.sum([ a[j,i]*b[j] for j in range(i+1,col)])\n",
    "\n",
    "sol=b\n",
    "print(\"sol of ax=b is \\n{}\".format(sol))\n",
    "#to check ...\n",
    "#print(ori_a @ sol - ori_b)"
   ]
  },
  {
   "cell_type": "code",
   "execution_count": null,
   "metadata": {
    "collapsed": false
   },
   "outputs": [],
   "source": []
  },
  {
   "cell_type": "code",
   "execution_count": null,
   "metadata": {
    "collapsed": true
   },
   "outputs": [],
   "source": []
  },
  {
   "cell_type": "code",
   "execution_count": null,
   "metadata": {
    "collapsed": true
   },
   "outputs": [],
   "source": []
  }
 ],
 "metadata": {
  "kernelspec": {
   "display_name": "Python 3",
   "language": "python",
   "name": "python3"
  },
  "language_info": {
   "codemirror_mode": {
    "name": "ipython",
    "version": 3
   },
   "file_extension": ".py",
   "mimetype": "text/x-python",
   "name": "python",
   "nbconvert_exporter": "python",
   "pygments_lexer": "ipython3",
   "version": "3.5.1"
  }
 },
 "nbformat": 4,
 "nbformat_minor": 0
}
