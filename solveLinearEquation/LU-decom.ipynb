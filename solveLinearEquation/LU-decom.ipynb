{
 "cells": [
  {
   "cell_type": "code",
   "execution_count": 1,
   "metadata": {
    "collapsed": true
   },
   "outputs": [],
   "source": [
    "import numpy as np"
   ]
  },
  {
   "cell_type": "markdown",
   "metadata": {},
   "source": [
    "# solve linear equation $ax=b$ using LU decomposite"
   ]
  },
  {
   "cell_type": "code",
   "execution_count": 2,
   "metadata": {
    "collapsed": false
   },
   "outputs": [
    {
     "name": "stdout",
     "output_type": "stream",
     "text": [
      "[[ nan]\n",
      " [ nan]\n",
      " [ nan]]\n",
      "[[None]\n",
      " [None]\n",
      " [None]]\n"
     ]
    }
   ],
   "source": [
    "a=np.matrix([[2,4,6],\n",
    "                        [1,-1,5],\n",
    "                        [4,1,-2]],dtype='float64')\n",
    "b=np.matrix([28,7,21],'float64').T\n",
    "x=np.array([[None]*3],dtype='float64').T\n",
    "print(x)\n",
    "swap_array=np.array([[None]*3]).T\n",
    "print(swap_array)"
   ]
  },
  {
   "cell_type": "code",
   "execution_count": 3,
   "metadata": {
    "collapsed": false
   },
   "outputs": [
    {
     "name": "stdout",
     "output_type": "stream",
     "text": [
      "[[ 4.          1.         -2.        ]\n",
      " [-0.25        3.5         7.        ]\n",
      " [-0.5         0.35714286  8.        ]]\n",
      "[[2]\n",
      " [2]\n",
      " [2]]\n"
     ]
    }
   ],
   "source": [
    "(row,col)=a.shape\n",
    "for j in range(row):\n",
    "    #search pivot\n",
    "    maxind=j+np.argmax(abs(a[j:,j]))\n",
    "    swap_array[j]=maxind\n",
    "    #swap!\n",
    "    a[[j,maxind],j:]=a[[maxind,j],j:]\n",
    "    pivot=a[j,j]\n",
    "    for i in range(j+1,row):\n",
    "        p=- a[i,j] /pivot\n",
    "        a[i,j:]+=p*a[j,j:]\n",
    "        #memorize value p\n",
    "        a[i,j]=p\n",
    "print(a)\n",
    "print(swap_array)"
   ]
  },
  {
   "cell_type": "code",
   "execution_count": 4,
   "metadata": {
    "collapsed": false
   },
   "outputs": [],
   "source": [
    "a=np.matrix([[4,1,-2],\n",
    "                        [-1/4,7/2,7],\n",
    "                        [-1/2,5/14,8]],dtype='float64')\n",
    "b=np.matrix([28,7,21],'float64').T\n",
    "swap=np.array([2,2,2])"
   ]
  },
  {
   "cell_type": "code",
   "execution_count": 5,
   "metadata": {
    "collapsed": false
   },
   "outputs": [
    {
     "name": "stdout",
     "output_type": "stream",
     "text": [
      "-0.25 [[ 21.]]\n",
      "-0.5 [[ 21.]]\n"
     ]
    },
    {
     "data": {
      "text/plain": [
       "matrix([[ 21.  ],\n",
       "        [  1.75],\n",
       "        [ 17.5 ]])"
      ]
     },
     "execution_count": 5,
     "metadata": {},
     "output_type": "execute_result"
    }
   ],
   "source": [
    "#swap b\n",
    "j=0\n",
    "b[[swap[j],j]]=b[[j,swap[j]]]\n",
    "\n",
    "for i in range(j+1,row):\n",
    "    print(a[i,j],b[j])\n",
    "    b[i]=b[i] + a[i,j] * b[j]\n",
    "b"
   ]
  },
  {
   "cell_type": "code",
   "execution_count": 6,
   "metadata": {
    "collapsed": false
   },
   "outputs": [
    {
     "name": "stdout",
     "output_type": "stream",
     "text": [
      "0.357142857143 [[ 17.5]]\n"
     ]
    },
    {
     "data": {
      "text/plain": [
       "matrix([[ 21. ],\n",
       "        [ 17.5],\n",
       "        [  8. ]])"
      ]
     },
     "execution_count": 6,
     "metadata": {},
     "output_type": "execute_result"
    }
   ],
   "source": [
    "j=1\n",
    "b[[swap[j],j]]=b[[j,swap[j]]]\n",
    "for i in range(j+1,row):\n",
    "    print(a[i,j],b[j])\n",
    "    b[i]=b[i] + a[i,j] * b[j]\n",
    "b"
   ]
  },
  {
   "cell_type": "markdown",
   "metadata": {},
   "source": [
    "# push-forward"
   ]
  },
  {
   "cell_type": "code",
   "execution_count": 7,
   "metadata": {
    "collapsed": false
   },
   "outputs": [
    {
     "data": {
      "text/plain": [
       "matrix([[ 21. ],\n",
       "        [ 17.5],\n",
       "        [  8. ]])"
      ]
     },
     "execution_count": 7,
     "metadata": {},
     "output_type": "execute_result"
    }
   ],
   "source": [
    "\n",
    "a=np.matrix([[4,1,-2],\n",
    "                        [-1/4,7/2,7],\n",
    "                        [-1/2,5/14,8]],dtype='float64')\n",
    "b=np.matrix([28,7,21],'float64').T\n",
    "swap=np.array([2,2,2])\n",
    "\n",
    "for j in range(row):\n",
    "    b[[swap[j],j]]=b[[j,swap[j]]]\n",
    "    for i in range(j+1,row):\n",
    "        b[i]+= a[i,j] * b[j]\n",
    "b"
   ]
  },
  {
   "cell_type": "markdown",
   "metadata": {},
   "source": [
    "# back-foward"
   ]
  },
  {
   "cell_type": "code",
   "execution_count": 8,
   "metadata": {
    "collapsed": false
   },
   "outputs": [
    {
     "data": {
      "text/plain": [
       "array([[ 5.],\n",
       "       [ 3.],\n",
       "       [ 1.]])"
      ]
     },
     "execution_count": 8,
     "metadata": {},
     "output_type": "execute_result"
    }
   ],
   "source": [
    "#backforward\n",
    "for i in range(row)[::-1]:\n",
    "    x[i]=(b[i]-np.dot(a[i,i+1:row],x[i+1:row]))/a[i,i]\n",
    "x"
   ]
  },
  {
   "cell_type": "markdown",
   "metadata": {},
   "source": [
    "#final result"
   ]
  },
  {
   "cell_type": "code",
   "execution_count": 9,
   "metadata": {
    "collapsed": false
   },
   "outputs": [
    {
     "name": "stdout",
     "output_type": "stream",
     "text": [
      "extended coefficient matrix applied gauss method \n",
      " a=[[  4.    1.   -2.   21. ]\n",
      " [  0.    3.5   7.   17.5]\n",
      " [  0.    0.    8.    8. ]]\n",
      "x=[[ 5.]\n",
      " [ 3.]\n",
      " [ 1.]]\n"
     ]
    }
   ],
   "source": [
    "a=np.matrix([[4,1,-2],\n",
    "                        [0,7/2,7],\n",
    "                        [0,0,8]],dtype='float64')\n",
    "b=np.matrix([[ 21. ],\n",
    "                        [ 17.5],\n",
    "                        [  8. ]])\n",
    "x=np.matrix([None]*3,dtype='float64').T\n",
    "#for check sum\n",
    "ori_a=a\n",
    "#define extended coefficient matrix of eq ax=b\n",
    "a=np.concatenate([a,b],axis=1)\n",
    "#push forward\n",
    "(row,col)=a.shape\n",
    "for j in range(row):\n",
    "    #search pivot\n",
    "    maxind=np.argmax(abs(a[j:,j]))+j\n",
    "    #swap!\n",
    "    a[[j,maxind],:]=a[[maxind,j],:]\n",
    "    for i in range(j+1,row):\n",
    "        p= -a[i,j] /a[j,j]\n",
    "        a[i]+=p*a[j]\n",
    "print('extended coefficient matrix applied gauss method \\n a={}'.format(a))\n",
    "#back forward\n",
    "for i in range(row)[::-1]:\n",
    "    x[i]=(a[i,col-1]-np.dot(a[i,i+1:row],x[i+1:row]))/a[i,i]\n",
    "print('x={}'.format(x))"
   ]
  },
  {
   "cell_type": "markdown",
   "metadata": {},
   "source": [
    "# confirm calclation flow"
   ]
  },
  {
   "cell_type": "code",
   "execution_count": null,
   "metadata": {
    "collapsed": true
   },
   "outputs": [],
   "source": []
  },
  {
   "cell_type": "markdown",
   "metadata": {},
   "source": [
    "# final code"
   ]
  },
  {
   "cell_type": "code",
   "execution_count": 10,
   "metadata": {
    "collapsed": false
   },
   "outputs": [
    {
     "data": {
      "text/plain": [
       "array([[ 5.],\n",
       "       [ 3.],\n",
       "       [ 1.]])"
      ]
     },
     "execution_count": 10,
     "metadata": {},
     "output_type": "execute_result"
    }
   ],
   "source": [
    "a=np.matrix([[2,4,6],\n",
    "                        [1,-1,5],\n",
    "                        [4,1,-2]],dtype='float64')\n",
    "b=np.matrix([28,7,21],'float64').T\n",
    "x=np.array([[None]*3],dtype='float64').T\n",
    "swap_array=np.array([[None]*3]).T\n",
    "(row,col)=a.shape\n",
    "\n",
    "for j in range(row):\n",
    "    #search pivot\n",
    "    maxind=j+np.argmax(abs(a[j:,j]))\n",
    "    swap_array[j]=maxind\n",
    "    #swap!\n",
    "    a[[j,maxind],j:]=a[[maxind,j],j:]\n",
    "    pivot=a[j,j]\n",
    "    for i in range(j+1,row):\n",
    "        p=- a[i,j] /pivot\n",
    "        a[i,j:]+=p*a[j,j:]\n",
    "        #memorize value p at [i,j]\n",
    "        a[i,j]=p\n",
    "        \n",
    "for j in range(row):\n",
    "    b[[swap[j],j]]=b[[j,swap[j]]]\n",
    "    for i in range(j+1,row):\n",
    "        b[i]+= a[i,j] * b[j]\n",
    "#backforward\n",
    "for i in range(row)[::-1]:\n",
    "    x[i]=(b[i]-np.dot(a[i,i+1:row],x[i+1:row]))/a[i,i]\n",
    "x"
   ]
  },
  {
   "cell_type": "code",
   "execution_count": null,
   "metadata": {
    "collapsed": true
   },
   "outputs": [],
   "source": []
  }
 ],
 "metadata": {
  "kernelspec": {
   "display_name": "Python 3",
   "language": "python",
   "name": "python3"
  },
  "language_info": {
   "codemirror_mode": {
    "name": "ipython",
    "version": 3
   },
   "file_extension": ".py",
   "mimetype": "text/x-python",
   "name": "python",
   "nbconvert_exporter": "python",
   "pygments_lexer": "ipython3",
   "version": "3.5.1"
  }
 },
 "nbformat": 4,
 "nbformat_minor": 0
}
