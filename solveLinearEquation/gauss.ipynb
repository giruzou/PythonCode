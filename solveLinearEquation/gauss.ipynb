{
 "cells": [
  {
   "cell_type": "markdown",
   "metadata": {},
   "source": [
    "# solve linear equation\n"
   ]
  },
  {
   "cell_type": "code",
   "execution_count": 1,
   "metadata": {
    "collapsed": true
   },
   "outputs": [],
   "source": [
    "import numpy as np"
   ]
  },
  {
   "cell_type": "code",
   "execution_count": 2,
   "metadata": {
    "collapsed": false
   },
   "outputs": [
    {
     "data": {
      "text/plain": [
       "matrix([[ 2.,  4.,  6.],\n",
       "        [ 1., -1.,  5.],\n",
       "        [ 4.,  1., -2.]], dtype=float32)"
      ]
     },
     "execution_count": 2,
     "metadata": {},
     "output_type": "execute_result"
    }
   ],
   "source": [
    "a=np.matrix([[2,4,6],\n",
    "                        [1,-1,5],\n",
    "                        [4,1,-2]],dtype='f')\n",
    "a"
   ]
  },
  {
   "cell_type": "code",
   "execution_count": 3,
   "metadata": {
    "collapsed": false
   },
   "outputs": [
    {
     "data": {
      "text/plain": [
       "matrix([[ 28.],\n",
       "        [  7.],\n",
       "        [ 21.]], dtype=float32)"
      ]
     },
     "execution_count": 3,
     "metadata": {},
     "output_type": "execute_result"
    }
   ],
   "source": [
    "b=np.matrix([28,7,21],'f').T\n",
    "b"
   ]
  },
  {
   "cell_type": "code",
   "execution_count": 4,
   "metadata": {
    "collapsed": false
   },
   "outputs": [
    {
     "data": {
      "text/plain": [
       "matrix([[ 5.],\n",
       "        [ 3.],\n",
       "        [ 1.]], dtype=float32)"
      ]
     },
     "execution_count": 4,
     "metadata": {},
     "output_type": "execute_result"
    }
   ],
   "source": [
    "x=np.matrix([5,3,1],dtype='f').T\n",
    "x"
   ]
  },
  {
   "cell_type": "markdown",
   "metadata": {},
   "source": [
    "# check that $ax=b$"
   ]
  },
  {
   "cell_type": "code",
   "execution_count": 5,
   "metadata": {
    "collapsed": false
   },
   "outputs": [
    {
     "data": {
      "text/plain": [
       "matrix([[ 0.],\n",
       "        [ 0.],\n",
       "        [ 0.]], dtype=float32)"
      ]
     },
     "execution_count": 5,
     "metadata": {},
     "output_type": "execute_result"
    }
   ],
   "source": [
    "a @ x - b"
   ]
  },
  {
   "cell_type": "markdown",
   "metadata": {},
   "source": [
    "# solve linear equation using Gauss mehtod"
   ]
  },
  {
   "cell_type": "markdown",
   "metadata": {},
   "source": [
    "# 0 列目を消去"
   ]
  },
  {
   "cell_type": "code",
   "execution_count": 6,
   "metadata": {
    "collapsed": false
   },
   "outputs": [
    {
     "data": {
      "text/plain": [
       "0.5"
      ]
     },
     "execution_count": 6,
     "metadata": {},
     "output_type": "execute_result"
    }
   ],
   "source": [
    "p=a[1,0]/a[0,0]\n",
    "p"
   ]
  },
  {
   "cell_type": "code",
   "execution_count": 7,
   "metadata": {
    "collapsed": false,
    "scrolled": true
   },
   "outputs": [
    {
     "data": {
      "text/plain": [
       "matrix([[ 2.,  4.,  6.],\n",
       "        [ 0., -3.,  2.],\n",
       "        [ 4.,  1., -2.]], dtype=float32)"
      ]
     },
     "execution_count": 7,
     "metadata": {},
     "output_type": "execute_result"
    }
   ],
   "source": [
    "a[1]-=p*a[0]\n",
    "a"
   ]
  },
  {
   "cell_type": "code",
   "execution_count": 8,
   "metadata": {
    "collapsed": false
   },
   "outputs": [
    {
     "data": {
      "text/plain": [
       "matrix([[  2.,   4.,   6.],\n",
       "        [  0.,  -3.,   2.],\n",
       "        [  0.,  -7., -14.]], dtype=float32)"
      ]
     },
     "execution_count": 8,
     "metadata": {},
     "output_type": "execute_result"
    }
   ],
   "source": [
    "p=a[2,0]/a[0,0]\n",
    "a[2]-=p*a[0]\n",
    "a"
   ]
  },
  {
   "cell_type": "code",
   "execution_count": 9,
   "metadata": {
    "collapsed": false
   },
   "outputs": [
    {
     "data": {
      "text/plain": [
       "(3, 3)"
      ]
     },
     "execution_count": 9,
     "metadata": {},
     "output_type": "execute_result"
    }
   ],
   "source": [
    "a.shape"
   ]
  },
  {
   "cell_type": "markdown",
   "metadata": {},
   "source": [
    "# for 文で　0列目消去を自動化"
   ]
  },
  {
   "cell_type": "code",
   "execution_count": 10,
   "metadata": {
    "collapsed": false
   },
   "outputs": [
    {
     "data": {
      "text/plain": [
       "matrix([[  2.,   4.,   6.],\n",
       "        [  0.,  -3.,   2.],\n",
       "        [  0.,  -7., -14.]], dtype=float32)"
      ]
     },
     "execution_count": 10,
     "metadata": {},
     "output_type": "execute_result"
    }
   ],
   "source": [
    "a=np.matrix([[2,4,6],\n",
    "                        [1,-1,5],\n",
    "                        [4,1,-2]],dtype='f')\n",
    "\n",
    "for i in range(1,a.shape[0]):\n",
    "    p= a[i,0] /a[0,0]\n",
    "    a[i]-=p*a[0]\n",
    "a"
   ]
  },
  {
   "cell_type": "markdown",
   "metadata": {},
   "source": [
    "# 1列目を消去"
   ]
  },
  {
   "cell_type": "code",
   "execution_count": 11,
   "metadata": {
    "collapsed": false
   },
   "outputs": [
    {
     "data": {
      "text/plain": [
       "matrix([[  2.        ,   4.        ,   6.        ],\n",
       "        [  0.        ,  -3.        ,   2.        ],\n",
       "        [  0.        ,   0.        , -18.66666603]], dtype=float32)"
      ]
     },
     "execution_count": 11,
     "metadata": {},
     "output_type": "execute_result"
    }
   ],
   "source": [
    "p=a[2,1]/a[1,1]\n",
    "a[2]-=p*a[1]\n",
    "a"
   ]
  },
  {
   "cell_type": "markdown",
   "metadata": {},
   "source": [
    " # 今までの操作を for 文で一般化"
   ]
  },
  {
   "cell_type": "code",
   "execution_count": 12,
   "metadata": {
    "collapsed": false
   },
   "outputs": [
    {
     "data": {
      "text/plain": [
       "matrix([[  2.        ,   4.        ,   6.        ],\n",
       "        [  0.        ,  -3.        ,   2.        ],\n",
       "        [  0.        ,   0.        , -18.66666603]], dtype=float32)"
      ]
     },
     "execution_count": 12,
     "metadata": {},
     "output_type": "execute_result"
    }
   ],
   "source": [
    "a=np.matrix([[2,4,6],\n",
    "             [1,-1,5],\n",
    "             [4,1,-2]],dtype='f')\n",
    "\n",
    "for j in range(a.shape[1]):\n",
    "    for i in range(j+1,a.shape[0]):\n",
    "        p= a[i,j] /a[j,j]\n",
    "        a[i]-=p*a[j]\n",
    "a\n"
   ]
  },
  {
   "cell_type": "markdown",
   "metadata": {},
   "source": [
    "# $b$ の操作を忘れていたので係数拡大行列にまとめて gauss 消去法を適用することにする．"
   ]
  },
  {
   "cell_type": "code",
   "execution_count": 13,
   "metadata": {
    "collapsed": false
   },
   "outputs": [
    {
     "data": {
      "text/plain": [
       "matrix([[  2.,   4.,   6.,  28.],\n",
       "        [  1.,  -1.,   5.,   7.],\n",
       "        [  4.,   1.,  -2.,  21.]], dtype=float32)"
      ]
     },
     "execution_count": 13,
     "metadata": {},
     "output_type": "execute_result"
    }
   ],
   "source": [
    "a=np.matrix([[2,4,6],\n",
    "                        [1,-1,5],\n",
    "                        [4,1,-2]],dtype='f')\n",
    "\n",
    "b=np.matrix([28,7,21],'f').T\n",
    "\n",
    "ext_a=np.concatenate([a,b],axis=1)\n",
    "ext_a"
   ]
  },
  {
   "cell_type": "code",
   "execution_count": 14,
   "metadata": {
    "collapsed": false
   },
   "outputs": [
    {
     "data": {
      "text/plain": [
       "matrix([[  2.        ,   4.        ,   6.        ,  28.        ],\n",
       "        [  0.        ,  -3.        ,   2.        ,  -7.        ],\n",
       "        [  0.        ,   0.        , -18.66666603, -18.66666794]], dtype=float32)"
      ]
     },
     "execution_count": 14,
     "metadata": {},
     "output_type": "execute_result"
    }
   ],
   "source": [
    "n=ext_a.shape[0]\n",
    "a=ext_a\n",
    "for j in range(n):\n",
    "    for i in range(j+1,n):\n",
    "        p= a[i,j] /a[j,j]\n",
    "        a[i]-=p*a[j]\n",
    "a"
   ]
  },
  {
   "cell_type": "markdown",
   "metadata": {},
   "source": [
    "# back forward"
   ]
  },
  {
   "cell_type": "code",
   "execution_count": 15,
   "metadata": {
    "collapsed": false
   },
   "outputs": [
    {
     "name": "stdout",
     "output_type": "stream",
     "text": [
      "[[ 1.00000012]]\n"
     ]
    },
    {
     "data": {
      "text/plain": [
       "matrix([[ 1.00000012]], dtype=float32)"
      ]
     },
     "execution_count": 15,
     "metadata": {},
     "output_type": "execute_result"
    }
   ],
   "source": [
    "row=a.shape[0]\n",
    "x[2]=a[2,3]/a[2,2]\n",
    "print(x[2])\n",
    "x2=(a[2,3]-np.dot(a[2,3:row],x[3:row]))/a[2,2]\n",
    "x2"
   ]
  },
  {
   "cell_type": "code",
   "execution_count": 16,
   "metadata": {
    "collapsed": false
   },
   "outputs": [
    {
     "name": "stdout",
     "output_type": "stream",
     "text": [
      "[[ 3.]]\n"
     ]
    },
    {
     "data": {
      "text/plain": [
       "matrix([[ 3.]], dtype=float32)"
      ]
     },
     "execution_count": 16,
     "metadata": {},
     "output_type": "execute_result"
    }
   ],
   "source": [
    "row=a.shape[0]\n",
    "x[1]=(a[1,3]-a[1,2]*x[2])/a[1,1]\n",
    "print(x[1])\n",
    "x1   =(a[1,3]-np.dot(a[1,2:row],x[2:row]))/a[1,1]\n",
    "x1"
   ]
  },
  {
   "cell_type": "code",
   "execution_count": 17,
   "metadata": {
    "collapsed": false
   },
   "outputs": [
    {
     "name": "stdout",
     "output_type": "stream",
     "text": [
      "[[ 4.99999952]]\n",
      "[[ 5.]]\n"
     ]
    }
   ],
   "source": [
    "row=a.shape[0]\n",
    "x[0]=(a[0,3]-a[0,1]*x[1]-a[0,2]*x[2])/a[0,0]\n",
    "print(x[0])\n",
    "x0    =  (a[0,3]-np.dot(a[0,1:row],x[1:row]))/a[0,0]\n",
    "print(x0)"
   ]
  },
  {
   "cell_type": "markdown",
   "metadata": {},
   "source": [
    "# for 文で一般化"
   ]
  },
  {
   "cell_type": "code",
   "execution_count": 18,
   "metadata": {
    "collapsed": false
   },
   "outputs": [
    {
     "name": "stdout",
     "output_type": "stream",
     "text": [
      "[[  2.           4.           6.          28.        ]\n",
      " [  0.          -3.           2.          -7.        ]\n",
      " [  0.           0.         -18.66666603 -18.66666794]]\n",
      "[ 4.99999956  3.00000007  1.0000001 ]\n"
     ]
    }
   ],
   "source": [
    "a=np.matrix([[2,4,6],\n",
    "                        [1,-1,5],\n",
    "                        [4,1,-2]],dtype='f')\n",
    "\n",
    "b=np.matrix([28,7,21],'f').T\n",
    "x=np.empty(3).T\n",
    "\n",
    "a=np.concatenate([a,b],axis=1)\n",
    "#push forward\n",
    "(row,col)=a.shape\n",
    "\n",
    "for j in range(row):\n",
    "    for i in range(j+1,row):\n",
    "        p= a[i,j] /a[j,j]\n",
    "        a[i]-=p*a[j]\n",
    "\n",
    "#back forward\n",
    "\n",
    "for i in range(row)[::-1]:\n",
    "    x[i]=(a[i,col-1]-np.dot(a[i,i+1:row],x[i+1:row]))/a[i,i]\n",
    "\n",
    "print(a)\n",
    "print(x)\n"
   ]
  },
  {
   "cell_type": "code",
   "execution_count": 19,
   "metadata": {
    "collapsed": false
   },
   "outputs": [
    {
     "name": "stdout",
     "output_type": "stream",
     "text": [
      "[[  2.           4.           6.          28.        ]\n",
      " [  0.          -3.           2.          -7.        ]\n",
      " [  0.           0.         -18.66666603 -18.66666794]]\n"
     ]
    },
    {
     "data": {
      "text/plain": [
       "matrix([[ 4.,  6.]], dtype=float32)"
      ]
     },
     "execution_count": 19,
     "metadata": {},
     "output_type": "execute_result"
    }
   ],
   "source": [
    "print(a)\n",
    "a[0,1:3]"
   ]
  },
  {
   "cell_type": "code",
   "execution_count": 20,
   "metadata": {
    "collapsed": false
   },
   "outputs": [
    {
     "name": "stdout",
     "output_type": "stream",
     "text": [
      "[[ 4.  6.]]\n",
      "[ 3.00000007  1.0000001 ]\n"
     ]
    },
    {
     "data": {
      "text/plain": [
       "matrix([[ 18.00000089]])"
      ]
     },
     "execution_count": 20,
     "metadata": {},
     "output_type": "execute_result"
    }
   ],
   "source": [
    "print(a[0,1:a.shape[1]-1])\n",
    "print(x[1:a.shape[1]-1])\n",
    "np.dot(a[0,1:a.shape[1]-1],x[1:a.shape[1]-1])"
   ]
  },
  {
   "cell_type": "code",
   "execution_count": null,
   "metadata": {
    "collapsed": true
   },
   "outputs": [],
   "source": []
  }
 ],
 "metadata": {
  "kernelspec": {
   "display_name": "Python 3",
   "language": "python",
   "name": "python3"
  },
  "language_info": {
   "codemirror_mode": {
    "name": "ipython",
    "version": 3
   },
   "file_extension": ".py",
   "mimetype": "text/x-python",
   "name": "python",
   "nbconvert_exporter": "python",
   "pygments_lexer": "ipython3",
   "version": "3.5.1"
  }
 },
 "nbformat": 4,
 "nbformat_minor": 0
}
