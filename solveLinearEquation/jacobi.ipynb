{
 "cells": [
  {
   "cell_type": "markdown",
   "metadata": {},
   "source": [
    "# jacobi method"
   ]
  },
  {
   "cell_type": "code",
   "execution_count": 68,
   "metadata": {
    "collapsed": true
   },
   "outputs": [],
   "source": [
    "import numpy as np"
   ]
  },
  {
   "cell_type": "code",
   "execution_count": 69,
   "metadata": {
    "collapsed": false
   },
   "outputs": [
    {
     "name": "stdout",
     "output_type": "stream",
     "text": [
      "[[ 5.  2.  0.  0.  0.  0.  0.  0.  0.  0.]\n",
      " [ 2.  5.  2.  0.  0.  0.  0.  0.  0.  0.]\n",
      " [ 0.  2.  5.  2.  0.  0.  0.  0.  0.  0.]\n",
      " [ 0.  0.  2.  5.  2.  0.  0.  0.  0.  0.]\n",
      " [ 0.  0.  0.  2.  5.  2.  0.  0.  0.  0.]\n",
      " [ 0.  0.  0.  0.  2.  5.  2.  0.  0.  0.]\n",
      " [ 0.  0.  0.  0.  0.  2.  5.  2.  0.  0.]\n",
      " [ 0.  0.  0.  0.  0.  0.  2.  5.  2.  0.]\n",
      " [ 0.  0.  0.  0.  0.  0.  0.  2.  5.  2.]\n",
      " [ 0.  0.  0.  0.  0.  0.  0.  0.  2.  5.]]\n"
     ]
    }
   ],
   "source": [
    "n=10\n",
    "a=np.diag([5.]*n)\n",
    "a+=np.diagflat([2.]*(n-1),1)\n",
    "a+=np.diagflat([2.]*(n-1),-1)\n",
    "print(a)"
   ]
  },
  {
   "cell_type": "code",
   "execution_count": 70,
   "metadata": {
    "collapsed": false
   },
   "outputs": [],
   "source": [
    "b=np.array([3,1,4,0,5,-1,6,-2,7,-15],dtype='f').T\n",
    "#init x\n",
    "x=np.ones(10).T"
   ]
  },
  {
   "cell_type": "code",
   "execution_count": 71,
   "metadata": {
    "collapsed": false
   },
   "outputs": [],
   "source": [
    "D=np.diag(np.diag(a))\n",
    "L=np.tril(a,-1)\n",
    "U=np.triu(a,+1)"
   ]
  },
  {
   "cell_type": "code",
   "execution_count": 72,
   "metadata": {
    "collapsed": false
   },
   "outputs": [],
   "source": [
    "invD=np.linalg.inv(D)"
   ]
  },
  {
   "cell_type": "code",
   "execution_count": 73,
   "metadata": {
    "collapsed": false
   },
   "outputs": [
    {
     "data": {
      "text/plain": [
       "array([ 0.2, -0.6,  0. , -0.8,  0.2, -1. ,  0.4, -1.2,  0.6, -3.4])"
      ]
     },
     "execution_count": 73,
     "metadata": {},
     "output_type": "execute_result"
    }
   ],
   "source": [
    "x_new=invD @ (b-(L+U) @ x)\n",
    "x_new"
   ]
  },
  {
   "cell_type": "code",
   "execution_count": 74,
   "metadata": {
    "collapsed": false
   },
   "outputs": [
    {
     "data": {
      "text/plain": [
       "array([ 0.99997362, -0.99997086,  1.99992916, -1.99995087,  2.99990705,\n",
       "       -2.99994638,  3.99991441, -3.99995895,  4.99994905, -4.99998467])"
      ]
     },
     "execution_count": 74,
     "metadata": {},
     "output_type": "execute_result"
    }
   ],
   "source": [
    "epsilon=0.0001\n",
    "maxiteration=100\n",
    "\n",
    "for k in range(maxiteration):\n",
    "    x_new=invD @ (b-(L+U) @ x)\n",
    "    if(np.linalg.norm(x_new-x) <epsilon):\n",
    "        break\n",
    "    x=x_new\n",
    "else:\n",
    "    print(\"fail jacobi method ...\")\n",
    "    exit(1)\n",
    "x\n",
    "  "
   ]
  },
  {
   "cell_type": "code",
   "execution_count": 75,
   "metadata": {
    "collapsed": false
   },
   "outputs": [
    {
     "name": "stdout",
     "output_type": "stream",
     "text": [
      "the sol of ax = b using Jacobi method is \n",
      "[ 0.99997362 -0.99997086  1.99992916 -1.99995087  2.99990705 -2.99994638\n",
      "  3.99991441 -3.99995895  4.99994905 -4.99998467]\n",
      "indeed ax-b is \n",
      "[ -7.36207272e-05  -4.87551647e-05  -1.97659494e-04  -8.19269659e-05\n",
      "  -2.59256556e-04  -8.90011829e-05  -2.38630852e-04  -6.78503510e-05\n",
      "  -1.42001948e-04  -2.52706070e-05]\n"
     ]
    }
   ],
   "source": [
    "print(\"the sol of ax = b using Jacobi method is \\n{}\".format(x))\n",
    "print(\"indeed ax-b is \\n{}\".format(a @x -b))"
   ]
  },
  {
   "cell_type": "code",
   "execution_count": 82,
   "metadata": {
    "collapsed": false
   },
   "outputs": [
    {
     "data": {
      "text/plain": [
       "Matrix([\n",
       "[0],\n",
       "[0],\n",
       "[0],\n",
       "[0],\n",
       "[0],\n",
       "[0],\n",
       "[0],\n",
       "[0],\n",
       "[0],\n",
       "[0]])"
      ]
     },
     "execution_count": 82,
     "metadata": {},
     "output_type": "execute_result"
    }
   ],
   "source": [
    "import sympy as sy\n",
    "sy_mat_a=sy.Matrix(a)\n",
    "sy_x=sy_mat_a.solve(b)\n",
    "sy_x-x"
   ]
  },
  {
   "cell_type": "code",
   "execution_count": 67,
   "metadata": {
    "collapsed": false
   },
   "outputs": [],
   "source": [
    "for i in range(5):\n",
    "    if i >2:\n",
    "        break\n",
    "else:\n",
    "    print(\"hoge\")"
   ]
  },
  {
   "cell_type": "code",
   "execution_count": null,
   "metadata": {
    "collapsed": true
   },
   "outputs": [],
   "source": []
  },
  {
   "cell_type": "markdown",
   "metadata": {},
   "source": [
    "# final code is"
   ]
  },
  {
   "cell_type": "code",
   "execution_count": 84,
   "metadata": {
    "collapsed": false
   },
   "outputs": [
    {
     "name": "stdout",
     "output_type": "stream",
     "text": [
      "[[ 5.  2.  0.  0.  0.  0.  0.  0.  0.  0.]\n",
      " [ 2.  5.  2.  0.  0.  0.  0.  0.  0.  0.]\n",
      " [ 0.  2.  5.  2.  0.  0.  0.  0.  0.  0.]\n",
      " [ 0.  0.  2.  5.  2.  0.  0.  0.  0.  0.]\n",
      " [ 0.  0.  0.  2.  5.  2.  0.  0.  0.  0.]\n",
      " [ 0.  0.  0.  0.  2.  5.  2.  0.  0.  0.]\n",
      " [ 0.  0.  0.  0.  0.  2.  5.  2.  0.  0.]\n",
      " [ 0.  0.  0.  0.  0.  0.  2.  5.  2.  0.]\n",
      " [ 0.  0.  0.  0.  0.  0.  0.  2.  5.  2.]\n",
      " [ 0.  0.  0.  0.  0.  0.  0.  0.  2.  5.]]\n",
      "the sol of ax = b using Jacobi method is \n",
      "[ 0.99997362 -0.99997086  1.99992916 -1.99995087  2.99990705 -2.99994638\n",
      "  3.99991441 -3.99995895  4.99994905 -4.99998467]\n",
      "indeed ax-b is \n",
      "[ -7.36207272e-05  -4.87551647e-05  -1.97659494e-04  -8.19269659e-05\n",
      "  -2.59256556e-04  -8.90011829e-05  -2.38630852e-04  -6.78503510e-05\n",
      "  -1.42001948e-04  -2.52706070e-05]\n",
      "you can check sol x using sympy...\n",
      "Matrix([[1.00000000000000], [-1.00000000000000], [2.00000000000000], [-2.00000000000000], [3.00000000000000], [-3.00000000000000], [4.00000000000000], [-4.00000000000000], [5.00000000000000], [-5.00000000000000]])\n"
     ]
    }
   ],
   "source": [
    "n=10\n",
    "a=np.diag([5.]*n)\n",
    "a+=np.diagflat([2.]*(n-1),1)\n",
    "a+=np.diagflat([2.]*(n-1),-1)\n",
    "print(a)\n",
    "\n",
    "b=np.array([3,1,4,0,5,-1,6,-2,7,-15],dtype='f').T\n",
    "#initial value x\n",
    "x=np.ones(10).T\n",
    "\n",
    "D=np.diag(np.diag(a))\n",
    "L=np.tril(a,-1)\n",
    "U=np.triu(a,+1)\n",
    "\n",
    "invD=np.linalg.inv(D)\n",
    "\n",
    "epsilon=0.0001\n",
    "maxiteration=100\n",
    "\n",
    "for k in range(maxiteration):\n",
    "    x_new=invD @ (b-(L+U) @ x)\n",
    "    if(np.linalg.norm(x_new-x) <epsilon):\n",
    "        break\n",
    "    x=x_new\n",
    "else:\n",
    "    print(\"fail jacobi method ...\")\n",
    "    exit(1)\n",
    "x\n",
    "\n",
    "print(\"the sol of ax = b using Jacobi method is \\n{}\".format(x))\n",
    "print(\"indeed ax-b is \\n{}\".format(a @x -b))\n",
    "print(\"you can check sol x using sympy...\")\n",
    "import sympy as sy\n",
    "sy_mat_a=sy.Matrix(a)\n",
    "sy_x=sy_mat_a.solve(b)\n",
    "print(sy_x)\n",
    "  "
   ]
  },
  {
   "cell_type": "code",
   "execution_count": null,
   "metadata": {
    "collapsed": true
   },
   "outputs": [],
   "source": []
  }
 ],
 "metadata": {
  "kernelspec": {
   "display_name": "Python 3",
   "language": "python",
   "name": "python3"
  },
  "language_info": {
   "codemirror_mode": {
    "name": "ipython",
    "version": 3
   },
   "file_extension": ".py",
   "mimetype": "text/x-python",
   "name": "python",
   "nbconvert_exporter": "python",
   "pygments_lexer": "ipython3",
   "version": "3.5.1"
  }
 },
 "nbformat": 4,
 "nbformat_minor": 0
}
