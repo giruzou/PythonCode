{
 "cells": [
  {
   "cell_type": "code",
   "execution_count": 24,
   "metadata": {
    "collapsed": true
   },
   "outputs": [],
   "source": [
    "import numpy as np\n",
    "import time"
   ]
  },
  {
   "cell_type": "markdown",
   "metadata": {},
   "source": [
    "# calc diffusion problem"
   ]
  },
  {
   "cell_type": "code",
   "execution_count": 42,
   "metadata": {
    "collapsed": false
   },
   "outputs": [],
   "source": [
    "grid_shape=(1024,1024)\n",
    "D=1\n",
    "dx,dy,dt=(1,1,0.1)\n",
    "\n",
    "def laplacian(grid):\n",
    "    return (np.roll(grid,+1,0)+np.roll(grid,-1,0) -2*grid)/(dx*dx)+(np.roll(grid,+1,1)+np.roll(grid,-1,1)-2*grid)/(dy*dy)\n",
    "\n",
    "def evolve2d(grid):\n",
    "    return grid + dt * D * laplacian(grid)\n",
    "\n",
    "def run_experiment(num_iterations):\n",
    "    grid=np.zeros(grid_shape)\n",
    "    block_low = int(grid_shape[0] * 0.4)\n",
    "    block_high= int(grid_shape[0] * 0.5)\n",
    "    grid[block_low:block_high,block_low:block_high]=0.005\n",
    "    \n",
    "    start=time.time()\n",
    "    for i in range(num_iterations):\n",
    "        grid=evolve2d(grid)\n",
    "    end=time.time()\n",
    "    \n",
    "    return end-start"
   ]
  },
  {
   "cell_type": "code",
   "execution_count": 43,
   "metadata": {
    "collapsed": false
   },
   "outputs": [
    {
     "name": "stdout",
     "output_type": "stream",
     "text": [
      "1 loop, best of 3: 789 ms per loop\n"
     ]
    }
   ],
   "source": [
    "%timeit run_experiment(10)"
   ]
  },
  {
   "cell_type": "markdown",
   "metadata": {},
   "source": [
    "# refactoring\n"
   ]
  },
  {
   "cell_type": "code",
   "execution_count": 44,
   "metadata": {
    "collapsed": true
   },
   "outputs": [],
   "source": [
    "grid_shape=(10,10)\n",
    "D=1\n",
    "dx,dy,dt=(0.1,0.1,0.1)\n",
    "\n",
    "def laplacian_refactor(grid,out):\n",
    "    np.copyto(out,grid)\n",
    "    out *=-4\n",
    "    out += np.roll(grid,+1,0)\n",
    "    out += np.roll(grid, -1,0)\n",
    "    out += np.roll(grid,+1,1)\n",
    "    out += np.roll(grid, -1,1)\n",
    "\n",
    "def evolve2d_refactor(grid,out):\n",
    "    laplacian_refactor(grid,out)\n",
    "    out*=D*dt\n",
    "    out+=grid\n",
    "    \n",
    "def run_experiment_refactor(num_iterations):\n",
    "    grid           = np.zeros(grid_shape)\n",
    "    grid_next = np.zeros(grid_shape)\n",
    "    block_low = int(grid_shape[0] * 0.4)\n",
    "    block_high= int(grid_shape[0] * 0.5)\n",
    "    grid[block_low:block_high,block_low:block_high]=0.005\n",
    "    \n",
    "    start=time.time()\n",
    "    for i in range(num_iterations):\n",
    "        evolve2d_refactor(grid,grid_next)\n",
    "        grid,grid_next=grid_next,grid\n",
    "    end=time.time()\n",
    "    \n",
    "    return end-start"
   ]
  },
  {
   "cell_type": "code",
   "execution_count": 45,
   "metadata": {
    "collapsed": false
   },
   "outputs": [
    {
     "name": "stdout",
     "output_type": "stream",
     "text": [
      "The slowest run took 8.94 times longer than the fastest. This could mean that an intermediate result is being cached.\n",
      "1000 loops, best of 3: 286 µs per loop\n"
     ]
    }
   ],
   "source": [
    "%timeit run_experiment_refactor(10)"
   ]
  },
  {
   "cell_type": "code",
   "execution_count": null,
   "metadata": {
    "collapsed": true
   },
   "outputs": [],
   "source": []
  },
  {
   "cell_type": "code",
   "execution_count": null,
   "metadata": {
    "collapsed": true
   },
   "outputs": [],
   "source": []
  }
 ],
 "metadata": {
  "kernelspec": {
   "display_name": "Python 3",
   "language": "python",
   "name": "python3"
  },
  "language_info": {
   "codemirror_mode": {
    "name": "ipython",
    "version": 3
   },
   "file_extension": ".py",
   "mimetype": "text/x-python",
   "name": "python",
   "nbconvert_exporter": "python",
   "pygments_lexer": "ipython3",
   "version": "3.5.1"
  }
 },
 "nbformat": 4,
 "nbformat_minor": 0
}
