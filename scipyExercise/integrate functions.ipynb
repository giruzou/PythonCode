{
 "cells": [
  {
   "cell_type": "markdown",
   "metadata": {},
   "source": [
    "# integrate functions"
   ]
  },
  {
   "cell_type": "code",
   "execution_count": 5,
   "metadata": {
    "collapsed": false
   },
   "outputs": [],
   "source": [
    "from scipy import integrate\n",
    "import numpy as np\n",
    "import matplotlib.pyplot as plt\n",
    "import sympy as sy\n",
    "sy.init_printing()"
   ]
  },
  {
   "cell_type": "code",
   "execution_count": 6,
   "metadata": {
    "collapsed": true
   },
   "outputs": [],
   "source": [
    "a,b=-1,1\n",
    "x=np.linspace(a,b,17)\n",
    "y=np.exp(-x)"
   ]
  },
  {
   "cell_type": "code",
   "execution_count": 7,
   "metadata": {
    "collapsed": false
   },
   "outputs": [
    {
     "data": {
      "image/png": "[encoded data removed]",
      "text/latex": [
       "$$2.35346201037$$"
      ],
      "text/plain": [
       "2.35346201037"
      ]
     },
     "execution_count": 7,
     "metadata": {},
     "output_type": "execute_result"
    }
   ],
   "source": [
    "val_trapz=integrate.trapz(y,x)\n",
    "val_trapz"
   ]
  },
  {
   "cell_type": "code",
   "execution_count": 9,
   "metadata": {
    "collapsed": false
   },
   "outputs": [
    {
     "data": {
      "image/png": "[encoded data removed]",
      "text/latex": [
       "$$2.3504055693$$"
      ],
      "text/plain": [
       "2.3504055693"
      ]
     },
     "execution_count": 9,
     "metadata": {},
     "output_type": "execute_result"
    }
   ],
   "source": [
    "val_simps=integrate.simps(y,x)\n",
    "val_simps"
   ]
  },
  {
   "cell_type": "code",
   "execution_count": 10,
   "metadata": {
    "collapsed": true
   },
   "outputs": [],
   "source": [
    "val_true=-np.exp(-b)+np.exp(-a)"
   ]
  },
  {
   "cell_type": "code",
   "execution_count": 11,
   "metadata": {
    "collapsed": false
   },
   "outputs": [
    {
     "name": "stdout",
     "output_type": "stream",
     "text": [
      "-0.00305962308718\n"
     ]
    }
   ],
   "source": [
    "print(val_true-val_trapz)"
   ]
  },
  {
   "cell_type": "code",
   "execution_count": 12,
   "metadata": {
    "collapsed": false
   },
   "outputs": [
    {
     "name": "stdout",
     "output_type": "stream",
     "text": [
      "-3.18201703609e-06\n"
     ]
    }
   ],
   "source": [
    "print(val_true-val_simps)"
   ]
  },
  {
   "cell_type": "code",
   "execution_count": 13,
   "metadata": {
    "collapsed": false
   },
   "outputs": [
    {
     "data": {
      "image/png": "[encoded data removed]",
      "text/latex": [
       "$$2.35040238733$$"
      ],
      "text/plain": [
       "2.35040238733"
      ]
     },
     "execution_count": 13,
     "metadata": {},
     "output_type": "execute_result"
    }
   ],
   "source": [
    "x=np.linspace(a,b,1+2**4)\n",
    "y=np.exp(-x)\n",
    "dx=x[1]-x[0]\n",
    "val_romb=integrate.romb(y,dx=dx)\n",
    "val_romb"
   ]
  },
  {
   "cell_type": "code",
   "execution_count": 14,
   "metadata": {
    "collapsed": false
   },
   "outputs": [
    {
     "name": "stdout",
     "output_type": "stream",
     "text": [
      "-4.20898871312e-11\n"
     ]
    }
   ],
   "source": [
    "print(val_true-val_romb)"
   ]
  },
  {
   "cell_type": "code",
   "execution_count": 15,
   "metadata": {
    "collapsed": false
   },
   "outputs": [
    {
     "data": {
      "image/png": "[encoded data removed]",
      "text/latex": [
       "$$142.94263890752217$$"
      ],
      "text/plain": [
       "142.94263890752217"
      ]
     },
     "execution_count": 15,
     "metadata": {},
     "output_type": "execute_result"
    }
   ],
   "source": [
    "f=lambda x:np.exp(-x**2) * (x**12-x**5)\n",
    "val,err=integrate.quad(f,0,np.inf)\n",
    "val"
   ]
  },
  {
   "cell_type": "code",
   "execution_count": 16,
   "metadata": {
    "collapsed": false
   },
   "outputs": [
    {
     "data": {
      "image/png": "[encoded data removed]",
      "text/latex": [
       "$$1.1044215839708937e-06$$"
      ],
      "text/plain": [
       "1.1044215839708937e-06"
      ]
     },
     "execution_count": 16,
     "metadata": {},
     "output_type": "execute_result"
    }
   ],
   "source": [
    "err"
   ]
  },
  {
   "cell_type": "markdown",
   "metadata": {},
   "source": [
    "# 多重積分\n",
    "$$\\int_{x=a}^b \\int_{y=g_1(x)}^{g_2(x)} f(x,y) dxdy$$\n",
    "where $g_1=-1$ and $g_2=0$"
   ]
  },
  {
   "cell_type": "code",
   "execution_count": 18,
   "metadata": {
    "collapsed": false
   },
   "outputs": [
    {
     "data": {
      "image/png": "[encoded data removed]",
      "text/latex": [
       "$$\\left ( 3.3333333333333335, \\quad 4.07081252219268e-14\\right )$$"
      ],
      "text/plain": [
       "(3.3333333333333335, 4.07081252219268e-14)"
      ]
     },
     "execution_count": 18,
     "metadata": {},
     "output_type": "execute_result"
    }
   ],
   "source": [
    "def f(x,y):\n",
    "    return 4-x**2-y**2\n",
    "a,b=0,1\n",
    "g1,g2=lambda x:-1,lambda x:0\n",
    "integrate.dblquad(f,a,b,g1,g2)"
   ]
  },
  {
   "cell_type": "code",
   "execution_count": 20,
   "metadata": {
    "collapsed": false
   },
   "outputs": [
    {
     "data": {
      "image/png": "[encoded data removed]",
      "text/latex": [
       "$$\\left ( 3.6666666666666665, \\quad 8.127150052361729e-14\\right )$$"
      ],
      "text/plain": [
       "(3.6666666666666665, 8.127150052361729e-14)"
      ]
     },
     "execution_count": 20,
     "metadata": {},
     "output_type": "execute_result"
    }
   ],
   "source": [
    "val,err=integrate.dblquad(f,0,1,lambda x:x-1,lambda x:1-x)\n",
    "val,err"
   ]
  },
  {
   "cell_type": "markdown",
   "metadata": {},
   "source": [
    "$$\\int_{a}^{b} \\int_{y=g_1(x)}^{g_2(x)} \\int_{z=h_1(x,y)}^{h_2(x,y)} f(x,y,z)dxdydz$$"
   ]
  },
  {
   "cell_type": "code",
   "execution_count": 28,
   "metadata": {
    "collapsed": false
   },
   "outputs": [
    {
     "data": {
      "image/png": "[encoded data removed]",
      "text/latex": [
       "$$7.999999999999999$$"
      ],
      "text/plain": [
       "7.999999999999999"
      ]
     },
     "execution_count": 28,
     "metadata": {},
     "output_type": "execute_result"
    }
   ],
   "source": [
    "ff=lambda x,y,z:(x+y+z)**2\n",
    "a,b=-1,1\n",
    "g1,g2=lambda x:-1,lambda x:1\n",
    "h1,h2=lambda x,y:-1,lambda x,y:1\n",
    "var,err=integrate.tplquad(ff,a,b,g1,g2,h1,h2)\n",
    "val"
   ]
  },
  {
   "cell_type": "code",
   "execution_count": 27,
   "metadata": {
    "collapsed": false
   },
   "outputs": [
    {
     "data": {
      "image/png": "[encoded data removed]",
      "text/latex": [
       "$$7.999999999999999$$"
      ],
      "text/plain": [
       "7.999999999999999"
      ]
     },
     "execution_count": 27,
     "metadata": {},
     "output_type": "execute_result"
    }
   ],
   "source": [
    "val,err=integrate.nquad(f,[(-1,1),(-1,1),(-1,1)])\n",
    "val"
   ]
  },
  {
   "cell_type": "code",
   "execution_count": null,
   "metadata": {
    "collapsed": true
   },
   "outputs": [],
   "source": []
  }
 ],
 "metadata": {
  "anaconda-cloud": {},
  "kernelspec": {
   "display_name": "Python [default]",
   "language": "python",
   "name": "python3"
  },
  "language_info": {
   "codemirror_mode": {
    "name": "ipython",
    "version": 3
   },
   "file_extension": ".py",
   "mimetype": "text/x-python",
   "name": "python",
   "nbconvert_exporter": "python",
   "pygments_lexer": "ipython3",
   "version": "3.5.2"
  }
 },
 "nbformat": 4,
 "nbformat_minor": 1
}
