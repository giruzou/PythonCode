{
 "cells": [
  {
   "cell_type": "code",
   "execution_count": 1,
   "metadata": {
    "collapsed": true
   },
   "outputs": [],
   "source": [
    "x<- 5"
   ]
  },
  {
   "cell_type": "code",
   "execution_count": 2,
   "metadata": {},
   "outputs": [
    {
     "data": {
      "text/html": [
       "5"
      ],
      "text/latex": [
       "5"
      ],
      "text/markdown": [
       "5"
      ],
      "text/plain": [
       "[1] 5"
      ]
     },
     "metadata": {},
     "output_type": "display_data"
    }
   ],
   "source": [
    "x"
   ]
  },
  {
   "cell_type": "code",
   "execution_count": 3,
   "metadata": {
    "collapsed": true
   },
   "outputs": [],
   "source": [
    "x<-1:10\n",
    "y<-1:10"
   ]
  },
  {
   "cell_type": "code",
   "execution_count": 5,
   "metadata": {},
   "outputs": [
    {
     "data": {
      "image/png": "[encoded data removed]",
      "text/plain": [
       "Plot with title \"たいとる\""
      ]
     },
     "metadata": {},
     "output_type": "display_data"
    }
   ],
   "source": [
    "plot(x,y,main='たいとる')"
   ]
  },
  {
   "cell_type": "code",
   "execution_count": 6,
   "metadata": {
    "collapsed": true
   },
   "outputs": [],
   "source": [
    "library(RMeCab)\n",
    "res<-RMeCabC(\"吾輩は猫である\")"
   ]
  },
  {
   "cell_type": "code",
   "execution_count": 7,
   "metadata": {},
   "outputs": [
    {
     "data": {
      "text/html": [
       "<ol>\n",
       "\t<li><strong>名詞:</strong> '吾輩'</li>\n",
       "\t<li><strong>助詞:</strong> 'は'</li>\n",
       "\t<li><strong>名詞:</strong> '猫'</li>\n",
       "\t<li><strong>助動詞:</strong> 'で'</li>\n",
       "\t<li><strong>助動詞:</strong> 'ある'</li>\n",
       "</ol>\n"
      ],
      "text/latex": [
       "\\begin{enumerate}\n",
       "\\item \\textbf{名詞:} '吾輩'\n",
       "\\item \\textbf{助詞:} 'は'\n",
       "\\item \\textbf{名詞:} '猫'\n",
       "\\item \\textbf{助動詞:} 'で'\n",
       "\\item \\textbf{助動詞:} 'ある'\n",
       "\\end{enumerate}\n"
      ],
      "text/markdown": [
       "1. **名詞:** '吾輩'\n",
       "2. **助詞:** 'は'\n",
       "3. **名詞:** '猫'\n",
       "4. **助動詞:** 'で'\n",
       "5. **助動詞:** 'ある'\n",
       "\n",
       "\n"
      ],
      "text/plain": [
       "[[1]]\n",
       "  名詞 \n",
       "\"吾輩\" \n",
       "\n",
       "[[2]]\n",
       "助詞 \n",
       "\"は\" \n",
       "\n",
       "[[3]]\n",
       "名詞 \n",
       "\"猫\" \n",
       "\n",
       "[[4]]\n",
       "助動詞 \n",
       "  \"で\" \n",
       "\n",
       "[[5]]\n",
       "助動詞 \n",
       "\"ある\" \n"
      ]
     },
     "metadata": {},
     "output_type": "display_data"
    }
   ],
   "source": [
    "res"
   ]
  },
  {
   "cell_type": "code",
   "execution_count": null,
   "metadata": {
    "collapsed": true
   },
   "outputs": [],
   "source": []
  }
 ],
 "metadata": {
  "kernelspec": {
   "display_name": "R",
   "language": "R",
   "name": "ir"
  },
  "language_info": {
   "codemirror_mode": "r",
   "file_extension": ".r",
   "mimetype": "text/x-r-source",
   "name": "R",
   "pygments_lexer": "r",
   "version": "3.3.2"
  }
 },
 "nbformat": 4,
 "nbformat_minor": 2
}
