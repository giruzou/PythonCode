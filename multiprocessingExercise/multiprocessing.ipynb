{
 "cells": [
  {
   "cell_type": "code",
   "execution_count": 16,
   "metadata": {
    "collapsed": false
   },
   "outputs": [],
   "source": [
    "from multiprocessing import Pool\n",
    "import random\n",
    "import time"
   ]
  },
  {
   "cell_type": "code",
   "execution_count": 17,
   "metadata": {
    "collapsed": true
   },
   "outputs": [],
   "source": [
    "def estimate_nbr_points_in_quarter_circle(nbr_estimates):\n",
    "    nbr_trials_in_quarter_unit_circle=0\n",
    "    for step in range(int(nbr_estimates)):\n",
    "        x=random.uniform(0,1)\n",
    "        y=random.uniform(0,1)\n",
    "        is_in_unit_circle = x*x + y*y <=1.0\n",
    "        nbr_trials_in_quarter_unit_circle+=is_in_unit_circle\n",
    "    return nbr_trials_in_quarter_unit_circle\n"
   ]
  },
  {
   "cell_type": "code",
   "execution_count": null,
   "metadata": {
    "collapsed": false
   },
   "outputs": [],
   "source": [
    "nbr_samples_in_total=1e3\n",
    "nbr_parallel_blocks=8\n",
    "pool=Pool(processes=nbr_parallel_blocks)\n",
    "nbr_samples_per_worker=nbr_samples_in_total/nbr_parallel_blocks\n",
    "print(\"Making {} samples per worker\".format(nbr_samples_per_worker))\n",
    "nbr_trials_per_process=[nbr_samples_per_worker] * nbr_parallel_blocks\n",
    "start=time.time()\n",
    "nbr_in_unit_circles=pool.map(estimate_nbr_points_in_quarter_circle,nbr_trials_per_process)\n",
    "pi_estimate=sum(nbr_in_unit_circles) * 4/nbr_samples_int_total\n",
    "print(\"estimated pi {}\".format(pi_estimate))\n",
    "print(\"Delta: {}\".format(time.time()-start))\n"
   ]
  },
  {
   "cell_type": "code",
   "execution_count": null,
   "metadata": {
    "collapsed": true
   },
   "outputs": [],
   "source": []
  }
 ],
 "metadata": {
  "kernelspec": {
   "display_name": "Python 3",
   "language": "python",
   "name": "python3"
  },
  "language_info": {
   "codemirror_mode": {
    "name": "ipython",
    "version": 3
   },
   "file_extension": ".py",
   "mimetype": "text/x-python",
   "name": "python",
   "nbconvert_exporter": "python",
   "pygments_lexer": "ipython3",
   "version": "3.5.2"
  }
 },
 "nbformat": 4,
 "nbformat_minor": 1
}
