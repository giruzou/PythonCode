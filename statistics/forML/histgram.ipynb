{
 "cells": [
  {
   "cell_type": "markdown",
   "metadata": {},
   "source": [
    "# histgram exercise"
   ]
  },
  {
   "cell_type": "code",
   "execution_count": 2,
   "metadata": {
    "collapsed": true
   },
   "outputs": [],
   "source": [
    "%matplotlib inline\n",
    "import numpy as np \n",
    "from matplotlib import pyplot as plt \n",
    "#reference:https://matplotlib.org/1.2.1/examples/api/histogram_demo.html"
   ]
  },
  {
   "cell_type": "code",
   "execution_count": 3,
   "metadata": {},
   "outputs": [
    {
     "data": {
      "text/plain": [
       "<matplotlib.legend.Legend at 0x10c574ef0>"
      ]
     },
     "execution_count": 3,
     "metadata": {},
     "output_type": "execute_result"
    },
    {
     "data": {
      "image/png": "[encoded data removed]",
      "text/plain": [
       "<matplotlib.figure.Figure at 0x10c5af550>"
      ]
     },
     "metadata": {},
     "output_type": "display_data"
    }
   ],
   "source": [
    "size=10000\n",
    "rate=0.5\n",
    "xs=np.random.normal(loc=0,scale=2.5,size=int(rate*size))\n",
    "xs=np.concatenate([xs,np.random.normal(loc=10,scale=5,size=int((1-rate)*size))])\n",
    "\n",
    "fig,ax=plt.subplots()\n",
    "density, bins, _=ax.hist(xs,bins=50,normed=True,edgecolor='black',facecolor='yellow',\n",
    "        linewidth=0.5,alpha=0.75)\n",
    "\n",
    "#mode\n",
    "mode_idx=np.argmax(density)\n",
    "bincenters = 0.5*(bins[1:]+bins[:-1])\n",
    "mode=bincenters[mode_idx]\n",
    "plt.plot([mode,mode],[0,np.max(density)],'-.',color='black',label='mode')\n",
    "\n",
    "#median\n",
    "median=np.median(xs)\n",
    "plt.plot([median,median],[0,np.max(density)],'--',color='red',label='median')\n",
    "#q1 percentile\n",
    "q1=np.percentile(xs,25)\n",
    "plt.plot([q1,q1],[0,np.max(density)],':',color='blue',label='Q1')\n",
    "#q3 percentile\n",
    "q3=np.percentile(xs,75)\n",
    "plt.plot([q3,q3],[0,np.max(density)],':',color='blue',label='Q3')\n",
    "ax.set_xlim([-10,30])\n",
    "ax.legend()"
   ]
  },
  {
   "cell_type": "markdown",
   "metadata": {
    "collapsed": true
   },
   "source": [
    "# skewness, kurtosis, moment"
   ]
  },
  {
   "cell_type": "code",
   "execution_count": 21,
   "metadata": {},
   "outputs": [
    {
     "data": {
      "text/plain": [
       "(array([ 1.,  3.,  6.,  6.,  3.,  1.]),\n",
       " array([ 0.        ,  0.83333333,  1.66666667,  2.5       ,  3.33333333,\n",
       "         4.16666667,  5.        ]),\n",
       " <a list of 6 Patch objects>)"
      ]
     },
     "execution_count": 21,
     "metadata": {},
     "output_type": "execute_result"
    },
    {
     "data": {
      "image/png": "[encoded data removed]",
      "text/plain": [
       "<matplotlib.figure.Figure at 0x112b06160>"
      ]
     },
     "metadata": {},
     "output_type": "display_data"
    }
   ],
   "source": [
    "dist1=[0,1,1,1,1,2,2,2,2,2,2,3,3,3,3,3,3,4,4,4]\n",
    "dist2=[0,1,1,1,2,2,2,2,2,2,3,3,3,3,3,3,4,4,4,5]\n",
    "fig,(ax1,ax2,ax3)=plt.subplots(1,3)\n",
    "ax1.hist(dist1,bins=5,edgecolor='black',alpha=0.6)\n",
    "ax2.hist(dist2,bins=6,edgecolor='black',alpha=0.6)"
   ]
  },
  {
   "cell_type": "code",
   "execution_count": null,
   "metadata": {
    "collapsed": true
   },
   "outputs": [],
   "source": []
  }
 ],
 "metadata": {
  "kernelspec": {
   "display_name": "Python 3",
   "language": "python",
   "name": "python3"
  },
  "language_info": {
   "codemirror_mode": {
    "name": "ipython",
    "version": 3
   },
   "file_extension": ".py",
   "mimetype": "text/x-python",
   "name": "python",
   "nbconvert_exporter": "python",
   "pygments_lexer": "ipython3",
   "version": "3.5.3"
  }
 },
 "nbformat": 4,
 "nbformat_minor": 2
}
