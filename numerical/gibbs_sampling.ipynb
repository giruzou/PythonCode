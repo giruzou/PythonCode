{
 "cells": [
  {
   "cell_type": "markdown",
   "metadata": {},
   "source": [
    "# Gibbsサンプリングのアニメーション(Python)\n",
    "\n",
    "Reference:\n",
    "- https://gist.github.com/Ooshita/1d0254d79bad942f02fb8085c264be0e\n",
    "- http://nbviewer.jupyter.org/gist/genkuroki/509ae2ec68fdad57b2b000aeaa3a18e6"
   ]
  },
  {
   "cell_type": "code",
   "execution_count": 1,
   "metadata": {},
   "outputs": [],
   "source": [
    "%matplotlib inline \n",
    "from matplotlib import pyplot as plt\n",
    "import matplotlib.animation as animation\n",
    "from math import sqrt, log, sin, cos, pi\n",
    "import numpy as np \n",
    "from numpy.random import rand,seed"
   ]
  },
  {
   "cell_type": "code",
   "execution_count": 2,
   "metadata": {},
   "outputs": [],
   "source": [
    "b=0.8\n",
    "x=10.0\n",
    "y=3.0\n",
    "times=200 \n",
    "np.random.seed(12345)"
   ]
  },
  {
   "cell_type": "code",
   "execution_count": 3,
   "metadata": {},
   "outputs": [
    {
     "data": {
      "image/png": "[encoded data removed]",
      "text/plain": [
       "<matplotlib.figure.Figure at 0x22775e29c18>"
      ]
     },
     "metadata": {},
     "output_type": "display_data"
    }
   ],
   "source": [
    "fig,ax=plt.subplots()\n",
    "for _ in range(times):\n",
    "    u1 = rand()\n",
    "    u2 = rand()\n",
    "    x_old = x\n",
    "    x = sqrt(-2*log(u1))*cos(2*pi*u2) + b*y\n",
    "    ax.plot([x_old, x], [y, y], lw=1)\n",
    "    y_old = y\n",
    "    y = sqrt(-2*log(u1))*sin(2*pi*u2) + b*x\n",
    "    ax.plot([x, x], [y_old, y], lw=1)"
   ]
  },
  {
   "cell_type": "markdown",
   "metadata": {},
   "source": [
    "# animaiton using FuncAnimation"
   ]
  },
  {
   "cell_type": "code",
   "execution_count": 4,
   "metadata": {},
   "outputs": [
    {
     "name": "stderr",
     "output_type": "stream",
     "text": [
      "C:\\ProgramData\\Miniconda3\\lib\\site-packages\\matplotlib\\animation.py:1218: UserWarning: MovieWriter imagemagick unavailable\n",
      "  warnings.warn(\"MovieWriter %s unavailable\" % writer)\n"
     ]
    },
    {
     "data": {
      "image/png": "[encoded data removed]",
      "text/plain": [
       "<matplotlib.figure.Figure at 0x2277757e4a8>"
      ]
     },
     "metadata": {},
     "output_type": "display_data"
    }
   ],
   "source": [
    "fig,ax=plt.subplots()\n",
    "ax.set_xlim(-4,10)\n",
    "ax.set_ylim(-4,4)\n",
    "\n",
    "b=0.8\n",
    "x=10.0\n",
    "y=3.0\n",
    "times=200 \n",
    "    \n",
    "def update(data,*fargs):\n",
    "    fig,ax=fargs\n",
    "    global x,y\n",
    "    u1 = rand()\n",
    "    u2 = rand()\n",
    "    x_old=x\n",
    "    x = sqrt(-2*log(u1))*cos(2*pi*u2) + b*y\n",
    "    ax.plot([x_old, x], [y, y], lw=1)\n",
    "    y_old = y\n",
    "    y = sqrt(-2*log(u1))*sin(2*pi*u2) + b*x\n",
    "    ax.plot([x, x], [y_old, y], lw=1)\n",
    "    ax.set_title(\"{}\".format(data))\n",
    "ani=animation.FuncAnimation(fig,update,interval=100,fargs=(fig,ax))\n",
    "ani.save(\"output.html\", writer=\"imagemagick\")"
   ]
  },
  {
   "cell_type": "code",
   "execution_count": null,
   "metadata": {
    "collapsed": true
   },
   "outputs": [],
   "source": []
  }
 ],
 "metadata": {
  "kernelspec": {
   "display_name": "Python 3",
   "language": "python",
   "name": "python3"
  },
  "language_info": {
   "codemirror_mode": {
    "name": "ipython",
    "version": 3
   },
   "file_extension": ".py",
   "mimetype": "text/x-python",
   "name": "python",
   "nbconvert_exporter": "python",
   "pygments_lexer": "ipython3",
   "version": "3.5.4"
  }
 },
 "nbformat": 4,
 "nbformat_minor": 2
}
